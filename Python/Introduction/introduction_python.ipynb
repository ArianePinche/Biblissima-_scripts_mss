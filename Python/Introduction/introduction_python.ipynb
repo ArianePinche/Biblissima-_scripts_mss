{
 "cells": [
  {
   "cell_type": "markdown",
   "id": "7da588a5-cdd5-400f-a751-5dba8d6c2a3b",
   "metadata": {
    "editable": true,
    "slideshow": {
     "slide_type": "slide"
    },
    "tags": []
   },
   "source": [
    "# Introduction à Python"
   ]
  },
  {
   "cell_type": "markdown",
   "id": "59ad3724-c052-4012-949a-b1c8e884224d",
   "metadata": {
    "editable": true,
    "slideshow": {
     "slide_type": "slide"
    },
    "tags": []
   },
   "source": [
    "## Variables\n",
    "Une variable est une donnée nommée: on assigne un nom à une donnée:"
   ]
  },
  {
   "cell_type": "code",
   "execution_count": null,
   "id": "34a38c33-402c-4d8a-bba0-2bf86beab3fd",
   "metadata": {
    "editable": true,
    "slideshow": {
     "slide_type": "fragment"
    },
    "tags": []
   },
   "outputs": [],
   "source": [
    "premier_entier_positif = 1\n",
    "print(premier_entier_positif)\n",
    "print(premier_entier_positif + 1)"
   ]
  },
  {
   "cell_type": "markdown",
   "id": "aa498904-8c80-46be-9c69-00ae8aa39401",
   "metadata": {
    "editable": true,
    "slideshow": {
     "slide_type": "slide"
    },
    "tags": []
   },
   "source": [
    "## Type de données\n",
    "Les données peuvent être de plusieurs types: en fonction du type de données, on pourra réaliser des opérations différentes. On peut soustraire deux entiers, mais pas deux chaînes de caractères !"
   ]
  },
  {
   "cell_type": "markdown",
   "id": "4c5df11c-8b42-4faf-8a52-752eed47825e",
   "metadata": {
    "editable": true,
    "slideshow": {
     "slide_type": "slide"
    },
    "tags": []
   },
   "source": [
    "### Chaînes de caractères"
   ]
  },
  {
   "cell_type": "code",
   "execution_count": null,
   "id": "e2853ac3-2bf8-4e74-a072-296b02223139",
   "metadata": {
    "editable": true,
    "slideshow": {
     "slide_type": "fragment"
    },
    "tags": []
   },
   "outputs": [],
   "source": [
    "incipit = \"Longtemps, je me suis couché de bonne heure\""
   ]
  },
  {
   "cell_type": "markdown",
   "id": "766f524d-5244-4dee-9875-815d1a35654c",
   "metadata": {
    "editable": true,
    "slideshow": {
     "slide_type": ""
    },
    "tags": []
   },
   "source": [
    "#### F-strings\n",
    "Une `f-string` est une chaîne de caractère qui inclut une variable:"
   ]
  },
  {
   "cell_type": "code",
   "execution_count": null,
   "id": "a478e684-b267-45f2-8437-39b4f672bc97",
   "metadata": {
    "editable": true,
    "slideshow": {
     "slide_type": "fragment"
    },
    "tags": []
   },
   "outputs": [],
   "source": [
    "substantif_1 = \"heure\"\n",
    "substantif_2 = \"humeur\""
   ]
  },
  {
   "cell_type": "code",
   "execution_count": null,
   "id": "3bf28c87-55aa-49fb-8065-548449514502",
   "metadata": {
    "editable": true,
    "slideshow": {
     "slide_type": "fragment"
    },
    "tags": []
   },
   "outputs": [],
   "source": [
    "incipit = f\"Longtemps, je me suis couché de bonne {substantif_1}.\"\n",
    "incipit_alternatif = f\"Longtemps, je me suis couché de bonne {substantif_2}.\""
   ]
  },
  {
   "cell_type": "code",
   "execution_count": null,
   "id": "bba61875-fb11-4458-a01b-94ea70af03a3",
   "metadata": {
    "editable": true,
    "slideshow": {
     "slide_type": "fragment"
    },
    "tags": []
   },
   "outputs": [],
   "source": [
    "print(incipit)\n",
    "print(incipit_alternatif)"
   ]
  },
  {
   "cell_type": "markdown",
   "id": "dbf3c878-70a6-4e20-accd-43c75199488a",
   "metadata": {
    "editable": true,
    "slideshow": {
     "slide_type": "slide"
    },
    "tags": []
   },
   "source": [
    "### Nombres (entiers, flottants)\n",
    "\n",
    "Les nombres sont de deux types: les entiers, et les flottants (les nombres réels)."
   ]
  },
  {
   "cell_type": "markdown",
   "id": "e67ebf4e-e026-4459-91a9-778d240b313a",
   "metadata": {
    "editable": true,
    "slideshow": {
     "slide_type": "fragment"
    },
    "tags": []
   },
   "source": [
    "#### Opération sur les nombres\n",
    "\n",
    "Toutes les opérations mathématiques basiques (et moins basiques) sont réalisables sur les nombres dans Python: addition, soustraction, multiplication, division, modulo, etc..."
   ]
  },
  {
   "cell_type": "markdown",
   "id": "0054941a-63d1-4559-9ff2-a7de1429fdeb",
   "metadata": {
    "editable": true,
    "slideshow": {
     "slide_type": "slide"
    },
    "tags": []
   },
   "source": [
    "### Booléens\n",
    "\n",
    "Les Booléens sont des types de données pouvant prendre deux valeurs: `True` et `False`."
   ]
  },
  {
   "cell_type": "markdown",
   "id": "60633287-e21d-461f-9d9b-250cc10687d5",
   "metadata": {
    "editable": true,
    "slideshow": {
     "slide_type": "slide"
    },
    "tags": []
   },
   "source": [
    "## Structure de données\n",
    "\n",
    "On s'intéresse ici aux différentes données structurées en Python. je ne présenterai que les listes, mais il existe aussi les dictionnaires, ensembles, et tuples."
   ]
  },
  {
   "cell_type": "markdown",
   "id": "fc00d0bf-838e-4ca2-89df-1b9174ff496f",
   "metadata": {
    "editable": true,
    "slideshow": {
     "slide_type": "fragment"
    },
    "tags": []
   },
   "source": [
    "### Listes\n",
    "\n",
    "Une liste est une suite d'objets ordonnée."
   ]
  },
  {
   "cell_type": "code",
   "execution_count": null,
   "id": "db3a740b-07ec-4e1a-ab5e-c04d359f5a75",
   "metadata": {
    "editable": true,
    "slideshow": {
     "slide_type": "fragment"
    },
    "tags": []
   },
   "outputs": [],
   "source": [
    "ma_liste = [1, 2, 3, 4, 5]"
   ]
  },
  {
   "cell_type": "markdown",
   "id": "542306d2-1f8e-4819-903f-6a1f7dfc2fb2",
   "metadata": {
    "editable": true,
    "slideshow": {
     "slide_type": "fragment"
    },
    "tags": []
   },
   "source": [
    "#### Index des listes\n",
    "\n",
    "Chaque item de liste a une propriété de position: l'*index*. L'index commence à 0 en python, alors qu'il commence à 1 dans XSLT. On peut accéder à un item de liste par son index à l'aide des crochet: `liste[index]`"
   ]
  },
  {
   "cell_type": "code",
   "execution_count": null,
   "id": "a806b98d-48de-471e-b59e-dc5da191d7c6",
   "metadata": {
    "editable": true,
    "slideshow": {
     "slide_type": "fragment"
    },
    "tags": []
   },
   "outputs": [],
   "source": [
    "print(ma_liste[0])"
   ]
  },
  {
   "cell_type": "markdown",
   "id": "a03f038c-be58-4f60-8d88-83a04ef7f025",
   "metadata": {
    "editable": true,
    "slideshow": {
     "slide_type": "fragment"
    },
    "tags": []
   },
   "source": [
    "On peut produire une sous-liste à partir d'une liste (*list slicing*) en sélectionnant l'index de début et l'index de fin (non inclus) de la sous-liste que l'on veut produire:"
   ]
  },
  {
   "cell_type": "code",
   "execution_count": null,
   "id": "16070b99-55b8-4798-892b-e82e25657325",
   "metadata": {
    "editable": true,
    "slideshow": {
     "slide_type": "fragment"
    },
    "tags": []
   },
   "outputs": [],
   "source": [
    "print(ma_liste[1:3])"
   ]
  },
  {
   "cell_type": "markdown",
   "id": "46574485-3fb4-4778-9849-2480b8270584",
   "metadata": {
    "editable": true,
    "slideshow": {
     "slide_type": "slide"
    },
    "tags": []
   },
   "source": [
    "#### Les chaînes de caractère sont des itérables\n",
    "\n",
    "On peut accéder à un caractère ou une sous-chaîne par leur index:"
   ]
  },
  {
   "cell_type": "code",
   "execution_count": null,
   "id": "dee6b1bc-3d0e-49fc-9bf3-384517bfce80",
   "metadata": {
    "editable": true,
    "slideshow": {
     "slide_type": "fragment"
    },
    "tags": []
   },
   "outputs": [],
   "source": [
    "incipit[0:9]"
   ]
  },
  {
   "cell_type": "markdown",
   "id": "cae06174-0f6e-47af-b7d9-feedcdd2eaae",
   "metadata": {
    "editable": true,
    "slideshow": {
     "slide_type": "slide"
    },
    "tags": []
   },
   "source": [
    "## Méthodes principales de manipulation des données\n",
    "\n",
    "L'indentation est obligatoire dans Python pour la manipulation des données (boucles, conditions), la production de classes et de fonctions. L'indentation par défaut est la tabulation.\n"
   ]
  },
  {
   "cell_type": "markdown",
   "id": "aa782206-ed4a-46e8-b146-ddf5fe5d7674",
   "metadata": {
    "editable": true,
    "slideshow": {
     "slide_type": "fragment"
    },
    "tags": []
   },
   "source": [
    "## Conditions\n",
    "\n",
    "Une condition permet de produire un arbre de décision à partir de l'évaluation d'une expression. Si cette expression est vraie, l'instruction de la condition sera appliquée."
   ]
  },
  {
   "cell_type": "code",
   "execution_count": null,
   "id": "c756d00a-fd4e-4e05-b32d-cc563b90891e",
   "metadata": {
    "editable": true,
    "slideshow": {
     "slide_type": "fragment"
    },
    "tags": []
   },
   "outputs": [],
   "source": [
    "age = 35\n",
    "\n",
    "if age < 18:\n",
    "    print(\"Cette personne est mineure\")\n",
    "else:\n",
    "    print(\"Cette personne est majeure\")"
   ]
  },
  {
   "cell_type": "markdown",
   "id": "66d493df-5aaa-4a2f-a933-fc8d69486ed3",
   "metadata": {
    "editable": true,
    "slideshow": {
     "slide_type": "slide"
    },
    "tags": []
   },
   "source": [
    "## Boucle `for`\n",
    "\n",
    "Une boucle `for` permet de parcourir tous les éléments d'objet itérable (liste, tuple, set) et d'appliquer une instruction sur chacun de ces éléments. \n",
    "\n",
    "Une boucle `for` est de la forme: \n",
    "\n",
    "```Python\n",
    "for element in itérable:\n",
    "    instruction\n",
    "```\n",
    "\n",
    "Où `element` est une variable qui est accessible dans (et à l'extérieur) de la boucle:"
   ]
  },
  {
   "cell_type": "code",
   "execution_count": null,
   "id": "ba87b774-41e0-4c47-9846-b69bfc3d819d",
   "metadata": {
    "editable": true,
    "slideshow": {
     "slide_type": "fragment"
    },
    "tags": []
   },
   "outputs": [],
   "source": [
    "for age in [13, 14, 15, 16, 17, 18, 19, 20]:\n",
    "    if age > 17:\n",
    "        print(f\"On est majeur à {age} ans en France.\")\n",
    "    else:\n",
    "        print(f\"On est mineur à {age} ans en France.\")"
   ]
  },
  {
   "cell_type": "markdown",
   "id": "c5628ccd-7c8e-4e49-b7c0-d475d1d9c62e",
   "metadata": {
    "editable": true,
    "slideshow": {
     "slide_type": "slide"
    },
    "tags": []
   },
   "source": [
    "## Fonctions et méthodes\n",
    "\n",
    "\n",
    "Une fonction est une portion de code en général nommée qui produit un résultat. Une fonction peut être invoquée en plusieurs points du code, ce qui permet de le rendre plus lisible, car la définition de la fonction ne sera produite qu'une fois. \n",
    "\n",
    "Une fonction peut nécessiter des informations (appelée arguments ou paramètres) en entrée et retourner des informations en sortie (le retour de la fonction), mais ce n'est pas obligatoire:"
   ]
  },
  {
   "cell_type": "code",
   "execution_count": null,
   "id": "83eb1bdb-33aa-49b6-8145-6e41b1c48b0a",
   "metadata": {
    "editable": true,
    "slideshow": {
     "slide_type": "fragment"
    },
    "tags": []
   },
   "outputs": [],
   "source": [
    "def incipit_swann():\n",
    "    print(\"Longtemps, je me suis couché de bonne heure\")"
   ]
  },
  {
   "cell_type": "code",
   "execution_count": null,
   "id": "c6c8adbc-da08-485f-8dcf-19d547e6ad3c",
   "metadata": {
    "editable": true,
    "slideshow": {
     "slide_type": "fragment"
    },
    "tags": []
   },
   "outputs": [],
   "source": [
    "incipit_swann()"
   ]
  },
  {
   "cell_type": "markdown",
   "id": "1ee29d12-7c67-4ebe-a6e4-695097f318fd",
   "metadata": {
    "editable": true,
    "slideshow": {
     "slide_type": ""
    },
    "tags": []
   },
   "source": [
    "Ici, la fonction `incipit_swann()` imprime un texte quand elle est appelé, mais elle ne retourne aucune information. On peut le vérifier en attribuant son retour à une variable:"
   ]
  },
  {
   "cell_type": "code",
   "execution_count": null,
   "id": "a2cb5094-fa03-4977-9ad6-c056548b4f89",
   "metadata": {
    "editable": true,
    "slideshow": {
     "slide_type": "fragment"
    },
    "tags": []
   },
   "outputs": [],
   "source": [
    "retour_fonction = incipit_swann()"
   ]
  },
  {
   "cell_type": "code",
   "execution_count": null,
   "id": "5232ca78-790d-409e-ac8d-717effefb9fe",
   "metadata": {
    "editable": true,
    "slideshow": {
     "slide_type": "fragment"
    },
    "tags": []
   },
   "outputs": [],
   "source": [
    "print(retour_fonction)"
   ]
  },
  {
   "cell_type": "markdown",
   "id": "02c18434-f3bd-4c61-8340-aea33f796fbf",
   "metadata": {
    "editable": true,
    "slideshow": {
     "slide_type": "slide"
    },
    "tags": []
   },
   "source": [
    "Produisons une fonction plus intéressante, qui viendra tester la majorité d'une personne en fonction de son âge et retournera un booleen:Produisons une fonction plus intéressante, qui viendra tester la majorité d'une personne en fonction de son âge et retournera un booleen:"
   ]
  },
  {
   "cell_type": "code",
   "execution_count": null,
   "id": "f2827426-652c-46dd-a52f-d2b40e49b6b3",
   "metadata": {
    "editable": true,
    "slideshow": {
     "slide_type": "fragment"
    },
    "tags": []
   },
   "outputs": [],
   "source": [
    "def verifie_majorite(age:int) -> bool:\n",
    "    if age > 17:\n",
    "        return True\n",
    "    else:\n",
    "        return False"
   ]
  },
  {
   "cell_type": "code",
   "execution_count": null,
   "id": "74286e06-2bca-449f-b790-296d70f1e2aa",
   "metadata": {
    "editable": true,
    "slideshow": {
     "slide_type": "fragment"
    },
    "tags": []
   },
   "outputs": [],
   "source": [
    "premiere_personne = verifie_majorite(18)\n",
    "deuxieme_personne = verifie_majorite(16)\n",
    "print(premiere_personne)\n",
    "print(deuxieme_personne)"
   ]
  },
  {
   "cell_type": "markdown",
   "id": "a2365ad8-2d05-4695-af20-6210b9eff0ee",
   "metadata": {
    "editable": true,
    "slideshow": {
     "slide_type": "fragment"
    },
    "tags": []
   },
   "source": [
    "**NB:** Certaines fonctions sont appelées *méthodes* lorsqu'elles s'appliquents à des objets précis qui sont des instances de classes. J'y reviendrai plus tard."
   ]
  }
 ],
 "metadata": {
  "kernelspec": {
   "display_name": "venv",
   "language": "python",
   "name": "venv"
  },
  "language_info": {
   "codemirror_mode": {
    "name": "ipython",
    "version": 3
   },
   "file_extension": ".py",
   "mimetype": "text/x-python",
   "name": "python",
   "nbconvert_exporter": "python",
   "pygments_lexer": "ipython3",
   "version": "3.10.0"
  }
 },
 "nbformat": 4,
 "nbformat_minor": 5
}
