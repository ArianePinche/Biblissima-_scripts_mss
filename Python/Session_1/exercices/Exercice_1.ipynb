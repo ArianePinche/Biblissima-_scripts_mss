{
 "cells": [
  {
   "cell_type": "markdown",
   "id": "36dfd863-48ac-4a5e-840b-900708ef5cac",
   "metadata": {
    "editable": true,
    "slideshow": {
     "slide_type": ""
    },
    "tags": []
   },
   "source": [
    "# Exercice 1\n",
    "Numérotez les vers du sonnet en exemple à l'aide d'un attribut `@n` ajouté à chaque vers. Sauvegardez le résultat sous `exercice_1_corrige.xml`."
   ]
  },
  {
   "cell_type": "code",
   "execution_count": null,
   "id": "fd6187a7-b5ad-4057-b71b-bd7df280172d",
   "metadata": {
    "editable": true,
    "slideshow": {
     "slide_type": ""
    },
    "tags": []
   },
   "outputs": [],
   "source": []
  }
 ],
 "metadata": {
  "kernelspec": {
   "display_name": "Python 3 (ipykernel)",
   "language": "python",
   "name": "python3"
  },
  "language_info": {
   "codemirror_mode": {
    "name": "ipython",
    "version": 3
   },
   "file_extension": ".py",
   "mimetype": "text/x-python",
   "name": "python",
   "nbconvert_exporter": "python",
   "pygments_lexer": "ipython3",
   "version": "3.10.0"
  }
 },
 "nbformat": 4,
 "nbformat_minor": 5
}
