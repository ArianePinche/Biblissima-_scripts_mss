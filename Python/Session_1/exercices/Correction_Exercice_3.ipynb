{
 "cells": [
  {
   "cell_type": "markdown",
   "id": "cad38dc9-8b5f-420e-9bd3-c47d3adb5c72",
   "metadata": {
    "editable": true,
    "slideshow": {
     "slide_type": ""
    },
    "tags": []
   },
   "source": [
    "# Exercice 3 (niveau avancé) - Classifier des apparats"
   ]
  },
  {
   "cell_type": "markdown",
   "id": "e018fe7a-fd23-4298-8efa-354aadcfa8be",
   "metadata": {},
   "source": [
    "Le fichier `exercice_3.xml` consiste en une table d'alignement d'un fragment du *De Regimine Principum* de Gilles de Rome. "
   ]
  },
  {
   "cell_type": "markdown",
   "id": "8316c529-dc04-4d66-8da3-2a97394d1a4c",
   "metadata": {},
   "source": [
    "L'exercice guidé consistera en la classification de chaque lieu variant en utilisant les informations grammaticales et lexicales issues de l'annotation linguistique réalisée en amont (lemmes, parties du discours). "
   ]
  },
  {
   "cell_type": "markdown",
   "id": "831b271f-e0fe-4fac-8af2-746d1f0be12e",
   "metadata": {},
   "source": [
    "Le but est d'ajouter à chaque élément `app` un attribut `@type` afin de permettre de filtrer et d'identifier ensuite les variantes significatives."
   ]
  },
  {
   "cell_type": "code",
   "execution_count": 107,
   "id": "b37ce7eb-9807-48c6-91ec-c144037d4b73",
   "metadata": {
    "editable": true,
    "slideshow": {
     "slide_type": ""
    },
    "tags": []
   },
   "outputs": [],
   "source": [
    "import lxml.etree as etree\n",
    "import copy\n",
    "\n",
    "tei_uri = \"http://www.tei-c.org/ns/1.0\"\n",
    "namespaces_dict = {'tei': tei_uri}\n",
    "\n",
    "fichier = '../exercice_3.xml'\n",
    "document_as_xml = etree.parse(fichier)"
   ]
  },
  {
   "cell_type": "markdown",
   "id": "d8b3c2ed-6640-480f-9e5d-b05613ed98c0",
   "metadata": {
    "editable": true,
    "slideshow": {
     "slide_type": ""
    },
    "tags": []
   },
   "source": [
    "## Étape 1: récupération des informations\n",
    "Ici, on veut récupérer l'ensemble des informations utiles dans notre élément `tei:app`: chaînes de caractères, lemmes, parties du discours. On travaille donc apparat par apparat."
   ]
  },
  {
   "cell_type": "markdown",
   "id": "68cd2bc7-38e6-493c-979e-a1c4f342b844",
   "metadata": {},
   "source": [
    "On commence par créer une requête qui nous permet de récupérer tous nos apparats:"
   ]
  },
  {
   "cell_type": "code",
   "execution_count": 94,
   "id": "672b6378-d607-4183-adce-38afa78f57ff",
   "metadata": {},
   "outputs": [
    {
     "data": {
      "text/plain": [
       "655"
      ]
     },
     "execution_count": 94,
     "metadata": {},
     "output_type": "execute_result"
    }
   ],
   "source": [
    "all_apps = document_as_xml.xpath(\"//tei:app\", namespaces=namespaces_dict)\n",
    "len(all_apps)"
   ]
  },
  {
   "cell_type": "markdown",
   "id": "24f422b9-cf09-4c62-ae9b-43788de1cbc5",
   "metadata": {},
   "source": [
    "Nous allons devoir comparer ce qui est comparable: chaque type d'information entre elle (formes, parties du discours, lemmes). Il faut donc récupérer ces informations, et on va le faire sous la forme de listes, ce qui sera très pratique pour la suite. Par chance, comme on le sait, la méthode `xpath()` renvoie précisément des listes!\n",
    "\n",
    "**NB:** l'encodage de ces apparats n'est pas complètement conforme à la TEI. Les attributs permettant l'analyse linguistique `@pos` et `@lemma` sont indiqués au niveau du `tei:rdg`."
   ]
  },
  {
   "cell_type": "code",
   "execution_count": 95,
   "id": "47c6cbde-921b-4c57-98d0-a18087a8c9f7",
   "metadata": {},
   "outputs": [
    {
     "name": "stdout",
     "output_type": "stream",
     "text": [
      "['capítulo', 'capítulo', 'capítulo']\n"
     ]
    }
   ],
   "source": [
    "first_set_of_lemmas = all_apps[0].xpath(\"descendant::tei:rdg/@lemma\", namespaces=namespaces_dict)\n",
    "print(first_set_of_lemmas)"
   ]
  },
  {
   "cell_type": "markdown",
   "id": "7dbc9c1a-9155-434c-9d2a-a9939c338fda",
   "metadata": {},
   "source": [
    "## Étape 2: algorithme de classification\n",
    "\n",
    "Ici, on veut produire une méthode de classification qui utilise les informations extraites auparavant. On définit ainsi un certain nombre de variantes (voir Camps, J.-B., Ing, L., & Spadini, E. (2019). Collating Medieval Vernacular Texts : Aligning Witnesses, Classifying Variants. DH2019 Digital Humanities Conference. DH2019: Complexities, Utrecht. https://dh-abstracts.library.cmu.edu/works/10074):\n",
    "- lexicale (les lemmes diffèrent)\n",
    "- graphique (seules les chaînes de caractères diffèrent)\n",
    "- grammaticale (les parties du discours diffèrent)\n",
    "- omission (un témoin ou plus omet le texte)\n",
    "\n",
    "Ces classes peuvent être combinées: on peut avoir une variante qui contient à la fois une omission et une variante lexicale."
   ]
  },
  {
   "cell_type": "markdown",
   "id": "ac9e8cbd-6f90-46d0-9fc0-3ef20e511390",
   "metadata": {},
   "source": [
    "Commençons donc sur notre algorithme, par les informations que nous avons en entrée. Nous allons comparer chaque type d'information une à une: les chaînes de caractères, les lemmes, les parties du discours. Puis nous comparerons le résultat de cette première phase de comparaison afin de produire notre classification.\n",
    "\n",
    "Nous voulons idéalement des listes (on s'occupera plus tard de la manière de les produire) pour chaque lieu variant."
   ]
  },
  {
   "cell_type": "code",
   "execution_count": 96,
   "id": "353d8ab3-4ef1-4692-9b26-3e44cbdd9c34",
   "metadata": {},
   "outputs": [],
   "source": [
    "liste_lemmes = ['a', 'a', 'a', 'b']\n",
    "liste_pos = ['b', 'b', 'b', 'b']\n",
    "liste_formes = ['a', 'e', 'e', 'i']"
   ]
  },
  {
   "cell_type": "markdown",
   "id": "47084096-51dd-4ac2-a0a0-7bab6a116ac7",
   "metadata": {},
   "source": [
    "Au sein du lieu variant `tei:app`, chaque rdg viendra nourrir ces liste des informations correspondantes. Le but d'abord est d'identifier si tous les témoins partagent la même information ou s'il y a une variation d'un ou plusieurs témoin. \n",
    "\n",
    "Il nous faut trouver une méthode pour identifier cette variation. Nous voulons nous assurer que tous les éléments de la liste sont identiques, il faut donc parvenir à les comparer entre eux. Plusieurs méthodes sont possibles, j'en montrerai deux ici"
   ]
  },
  {
   "cell_type": "markdown",
   "id": "bd95588d-0018-4f9b-823b-b0528af3a519",
   "metadata": {},
   "source": [
    "#### En utilisant `all()` et une compréhension de liste\n",
    "\n",
    "Une compréhension de liste revient à aplatir une boucle pour produire une liste:"
   ]
  },
  {
   "cell_type": "code",
   "execution_count": 97,
   "id": "2cb78656-2516-4d09-9f87-cde399b916f6",
   "metadata": {},
   "outputs": [
    {
     "name": "stdout",
     "output_type": "stream",
     "text": [
      "[10, 11, 12, 13, 14]\n"
     ]
    }
   ],
   "source": [
    "liste_de_nombres = []\n",
    "for number in range(5):\n",
    "    liste_de_nombres.append(number + 10)\n",
    "print(liste_de_nombres)"
   ]
  },
  {
   "cell_type": "markdown",
   "id": "c2061ad3-81a8-421d-9136-a3192269d89d",
   "metadata": {},
   "source": [
    "Est équivalent à:"
   ]
  },
  {
   "cell_type": "code",
   "execution_count": 98,
   "id": "d6909a7e-46d2-4d03-a641-aef6d1c53385",
   "metadata": {},
   "outputs": [
    {
     "name": "stdout",
     "output_type": "stream",
     "text": [
      "[10, 11, 12, 13, 14]\n"
     ]
    }
   ],
   "source": [
    "liste_de_nombres = [number + 10 for number in range(5)]\n",
    "print(liste_de_nombres)"
   ]
  },
  {
   "cell_type": "markdown",
   "id": "4e70176a-ada2-4739-a3f7-e45252ed78cc",
   "metadata": {},
   "source": [
    "La fonction built-in `all()` permet de vérifier que tous les éléments d'un itérable sont vrais. Elle renvoie un booléen (`True` ou `False`).\n",
    "\n",
    "Exemple:"
   ]
  },
  {
   "cell_type": "code",
   "execution_count": 99,
   "id": "d1e985f7-dc8f-424a-9719-7f897cc5460c",
   "metadata": {},
   "outputs": [
    {
     "name": "stdout",
     "output_type": "stream",
     "text": [
      "True\n",
      "False\n"
     ]
    }
   ],
   "source": [
    "list_of_elements_a = [1, 2, 3, 4, 5]\n",
    "list_of_elements_b = [1, 2, 3, 4, 5.5]\n",
    "print(all([type(element) == int for element in list_of_elements_a]))\n",
    "print(all([type(element) == int for element in list_of_elements_b]))"
   ]
  },
  {
   "cell_type": "markdown",
   "id": "d2e0aee0-4659-4d5a-8aaa-fae8150b6443",
   "metadata": {},
   "source": [
    "Pour vérifier si la liste est homogène, on pourrait produire une double boucle afin de comparer chacun de ses items avec tous les autres, mais cela serait un peu complexe. Une autre solution est de vérifier que chaque item de la liste est identique au premier. Si tel est le cas, ils seront tous identiques entre eux !"
   ]
  },
  {
   "cell_type": "code",
   "execution_count": 100,
   "id": "1ad98974-9540-4897-9342-79403b04e4b2",
   "metadata": {},
   "outputs": [
    {
     "name": "stdout",
     "output_type": "stream",
     "text": [
      "False\n",
      "True\n",
      "False\n"
     ]
    }
   ],
   "source": [
    "premier_lemme = liste_lemmes[0]\n",
    "premier_pos = liste_pos[0]\n",
    "premiere_forme = liste_formes[0]\n",
    "egalite_lemmes = all(lemme == premier_lemme for lemme in liste_lemmes[1:])\n",
    "egalite_pos = all(pos == premier_pos for pos in liste_pos[1:])\n",
    "egalite_formes = all(forme == premiere_forme for forme in liste_formes[1:])\n",
    "print(egalite_lemmes)\n",
    "print(egalite_pos)\n",
    "print(egalite_formes)"
   ]
  },
  {
   "cell_type": "markdown",
   "id": "6f5727fd-739d-4a6c-859f-e972bcea1713",
   "metadata": {},
   "source": [
    "Ici, nous avons une inégalité des lemmes, une inégalité des lemmes et une inégalité des formes. En combinant ces informations, nous avons de quoi produire notre classification !"
   ]
  },
  {
   "cell_type": "markdown",
   "id": "505c4789-e4f2-4a65-9447-6d69fb85c334",
   "metadata": {},
   "source": [
    "#### Avec des ensembles\n",
    "Un ensemble (`set`) est un objet itérable non ordonné dont les composants sont uniques. Passer d'une liste à un ensemble (qui est une opération triviale pour l'utilisateur.ice) permet de tester l'homogénéité de cette liste, et d'identifier le nombre d'éléments différents qui la composent:"
   ]
  },
  {
   "cell_type": "code",
   "execution_count": 101,
   "id": "57287b4c-6d0a-48e0-a3c0-bd2d4d4de5a4",
   "metadata": {},
   "outputs": [
    {
     "data": {
      "text/plain": [
       "{'banane', 'poire', 'pomme'}"
      ]
     },
     "execution_count": 101,
     "metadata": {},
     "output_type": "execute_result"
    }
   ],
   "source": [
    "liste_de_fruits = [\"pomme\", \"poire\", \"banane\", \"banane\", \"pomme\"]\n",
    "set(liste_de_fruits)"
   ]
  },
  {
   "cell_type": "markdown",
   "id": "3a12b4d6-441e-4911-a36f-5d24afe4631c",
   "metadata": {},
   "source": [
    "On peut donc utiliser cette méthode pour vérifier combien d'éléments différents sont dans nos listes d'annotations: "
   ]
  },
  {
   "cell_type": "code",
   "execution_count": 102,
   "id": "94d82e93-398e-4a2b-8123-b8d547dccf0e",
   "metadata": {},
   "outputs": [
    {
     "name": "stdout",
     "output_type": "stream",
     "text": [
      "{'b', 'a'}\n",
      "{'b'}\n",
      "{'e', 'i', 'a'}\n"
     ]
    }
   ],
   "source": [
    "print(set(liste_lemmes))\n",
    "print(set(liste_pos))\n",
    "print(set(liste_formes))"
   ]
  },
  {
   "cell_type": "markdown",
   "id": "c55c40e9-1803-489f-8274-b1df24fd7b21",
   "metadata": {},
   "source": [
    "On valide bien ici que la liste de parties du discours contient deux annotations différentes, et qu'il y a une variation de ce point de vue."
   ]
  },
  {
   "cell_type": "markdown",
   "id": "ce669d67-700c-4241-b638-ee3b93f08256",
   "metadata": {},
   "source": [
    "### Classifier les variantes\n",
    "Nous savons maintenant si la variation apparaît au niveau de la forme, de la partie du discours ou du lemme. En combinant ces informations, nous allons pouvoir réaliser notre classification:\n",
    "1) Si seule la forme diverge, il s'agit d'une variante graphique\n",
    "2) Si seule la partie du discours diverge, il s'agit d'une variante grammaticale\n",
    "3) Si le lemme change, il s'agit d'une variante lexicale"
   ]
  },
  {
   "cell_type": "markdown",
   "id": "3e1d34e5-514c-44a3-ac0a-a817e34cde99",
   "metadata": {},
   "source": [
    "On va pouvoir ici utiliser des formes conditionelles pour exprimer ces différentes options. Nous allons utiliser la structure conditionnelle `if... elif` qui permet de tester de multiples conditions à la suite. Ici, on simplifie la vérification de la valeur d'une variable: `not egalite_formes` est équivalent (et préférable) à `egalite_formes == False` ou `egalite_formes is False`."
   ]
  },
  {
   "cell_type": "code",
   "execution_count": 103,
   "id": "f22b61ac-8c7c-44c8-9c3d-f19af0d969d7",
   "metadata": {},
   "outputs": [
    {
     "name": "stdout",
     "output_type": "stream",
     "text": [
      "lexicale\n"
     ]
    }
   ],
   "source": [
    "variante = \"\"\n",
    "if not egalite_formes and egalite_lemmes and egalite_pos:\n",
    "    variante = \"graphique\"\n",
    "elif egalite_lemmes and not egalite_pos:\n",
    "    variante = \"grammaticale\"\n",
    "elif not egalite_lemmes:\n",
    "    variante = \"lexicale\"\n",
    "print(variante)"
   ]
  },
  {
   "cell_type": "markdown",
   "id": "df3f3db8-0506-43fc-a82a-569665e85f62",
   "metadata": {},
   "source": [
    "Nous avons maintenant l'ensemble des étapes d'identification de la variante: nous pouvons en faire une fonction qui prendra les listes en entrée et qui produira en sortie la classe.\n",
    "\n",
    "Nous allons simplement devoir complexifier un peu la fonction en ajoutant une manière de gérer les omissions: "
   ]
  },
  {
   "cell_type": "code",
   "execution_count": 104,
   "id": "1a20e31d-249c-4e66-a249-db67f0a8f133",
   "metadata": {},
   "outputs": [
    {
     "name": "stdout",
     "output_type": "stream",
     "text": [
      "['le', '']\n"
     ]
    }
   ],
   "source": [
    "first_set_of_lemmas = all_apps[20].xpath(\"descendant::tei:rdg/@lemma\", namespaces=namespaces_dict)\n",
    "print(first_set_of_lemmas)"
   ]
  },
  {
   "cell_type": "markdown",
   "id": "1d589dd0-4b9e-412f-bdf8-3f785704d7e0",
   "metadata": {},
   "source": [
    "Ceci sera fait en identifiant les listes contenant des éléments vides, qui mèneront à une classe supplémentaire, `variante.` En même temps, on supprimera ces éléments vides qui viendraient fausser la classification."
   ]
  },
  {
   "cell_type": "code",
   "execution_count": 105,
   "id": "0fd9bf4d-3252-44b1-a435-61149e21fbda",
   "metadata": {},
   "outputs": [],
   "source": [
    "# Les éléments qui apparaissent en vert dans la première ligne correspondent à une forme de documentation de la fonction\n",
    "def classer_variantes(formes:list, parties_discours:list, lemmes:list)-> str:\n",
    "    variante = \"\"\n",
    "    if \"\" in parties_discours:\n",
    "        variante = \"#omission \"\n",
    "        # On réécrit les listes à l'aide de comprehensions de listes qui incluent une condition\n",
    "        parties_discours = [item for item in parties_discours if item != \"\"]\n",
    "        lemmes = [item for item in lemmes if item != \"\"]\n",
    "    egalite_lemmes = all(lemme == lemmes[0] for lemme in lemmes[1:])\n",
    "    egalite_pos = all(pos == parties_discours[0] for pos in parties_discours[1:])\n",
    "    egalite_formes = all(forme == formes[0] for forme in formes[1:])\n",
    "    if not egalite_formes and egalite_lemmes and egalite_pos:\n",
    "        variante += \"#graphique\"\n",
    "    elif egalite_lemmes and not egalite_pos:\n",
    "        variante += \"#grammaticale\"\n",
    "    elif not egalite_lemmes:\n",
    "        variante += \"#lexicale\"\n",
    "    # On s'occupe du cas où il n'y aurait qu'une omission (deux rdg seulement)\n",
    "    if variante == \"#omission \": variante = \"#omission\"\n",
    "    return variante"
   ]
  },
  {
   "cell_type": "markdown",
   "id": "47a1b2d8-c054-49bf-bcda-1f9d38cad82e",
   "metadata": {},
   "source": [
    "Nous pouvons maintenant tout réunir dans une boucle !"
   ]
  },
  {
   "cell_type": "markdown",
   "id": "1e2db4aa-d054-41a1-8f54-da8bebb492a7",
   "metadata": {},
   "source": [
    "## Étape 3: réalisation de la chaîne de traitement"
   ]
  },
  {
   "cell_type": "markdown",
   "id": "c6793165-78ab-4efb-bfc2-98be6a54cd22",
   "metadata": {},
   "source": [
    "Chaque entrée d'apparat doit être typée à l'aide d'un attribut `@ana` (attention, cet attribut doit être un pointeur). "
   ]
  },
  {
   "cell_type": "code",
   "execution_count": 106,
   "id": "19619088-9684-486e-9d0d-b6be5d35b8ba",
   "metadata": {},
   "outputs": [],
   "source": [
    "for app in all_apps:\n",
    "    formes = app.xpath(\"descendant::tei:rdg/tei:w/text()\", namespaces=namespaces_dict)\n",
    "    parties_discours = app.xpath(\"descendant::tei:rdg/@pos\", namespaces=namespaces_dict)\n",
    "    lemmes = app.xpath(\"descendant::tei:rdg/@lemma\", namespaces=namespaces_dict)\n",
    "    variante = classer_variantes(formes, parties_discours, lemmes)\n",
    "    app.set('ana', variante)\n",
    "\n",
    "with open('../edition_apparat_type.xml', 'w') as output_file:\n",
    "    output_file.write(etree.tostring(document_as_xml, pretty_print=True).decode())\n",
    "    "
   ]
  },
  {
   "cell_type": "code",
   "execution_count": null,
   "id": "120abd79-abc3-429d-8bb0-758a7cda243d",
   "metadata": {},
   "outputs": [],
   "source": []
  }
 ],
 "metadata": {
  "kernelspec": {
   "display_name": "Python 3 (ipykernel)",
   "language": "python",
   "name": "python3"
  },
  "language_info": {
   "codemirror_mode": {
    "name": "ipython",
    "version": 3
   },
   "file_extension": ".py",
   "mimetype": "text/x-python",
   "name": "python",
   "nbconvert_exporter": "python",
   "pygments_lexer": "ipython3",
   "version": "3.10.0"
  }
 },
 "nbformat": 4,
 "nbformat_minor": 5
}
