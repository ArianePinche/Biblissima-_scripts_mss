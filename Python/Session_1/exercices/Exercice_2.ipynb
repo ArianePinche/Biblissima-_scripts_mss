{
 "cells": [
  {
   "cell_type": "markdown",
   "id": "3c54a95b-7aaa-4a3a-a5ff-c4913d5eaa0b",
   "metadata": {
    "editable": true,
    "slideshow": {
     "slide_type": ""
    },
    "tags": []
   },
   "source": [
    "# Exercice 2 (niveau intermédiaire, optionnel)\n",
    "\n",
    "Attribuez à chaque élément seg un attribut `@xml:id` dont la valeur est aléatoire et qui contienne des chiffres et des lettres. Attention:\n",
    "- Un attribut `@xml:id` ne peut commencer par un chiffre\n",
    "- Il faut trouver une solution pour produire l'attribut avec l'espace de nommage `xml`."
   ]
  },
  {
   "cell_type": "markdown",
   "id": "91b929e9-6956-4daf-aa8e-d30767194fd2",
   "metadata": {
    "editable": true,
    "slideshow": {
     "slide_type": ""
    },
    "tags": []
   },
   "source": []
  }
 ],
 "metadata": {
  "kernelspec": {
   "display_name": "Python 3 (ipykernel)",
   "language": "python",
   "name": "python3"
  },
  "language_info": {
   "codemirror_mode": {
    "name": "ipython",
    "version": 3
   },
   "file_extension": ".py",
   "mimetype": "text/x-python",
   "name": "python",
   "nbconvert_exporter": "python",
   "pygments_lexer": "ipython3",
   "version": "3.10.0"
  }
 },
 "nbformat": 4,
 "nbformat_minor": 5
}
