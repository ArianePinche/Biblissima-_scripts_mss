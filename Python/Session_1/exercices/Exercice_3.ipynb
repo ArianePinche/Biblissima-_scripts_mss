{
 "cells": [
  {
   "cell_type": "markdown",
   "id": "cad38dc9-8b5f-420e-9bd3-c47d3adb5c72",
   "metadata": {},
   "source": [
    "# Exercice 3 (niveau avancé) - Classifier des apparats"
   ]
  },
  {
   "cell_type": "markdown",
   "id": "e018fe7a-fd23-4298-8efa-354aadcfa8be",
   "metadata": {},
   "source": [
    "Le fichier `exercice_3.xml` consiste en une table d'alignement d'un fragment du *De Regimine Principum* de Gilles de Rome. "
   ]
  },
  {
   "cell_type": "markdown",
   "id": "8316c529-dc04-4d66-8da3-2a97394d1a4c",
   "metadata": {},
   "source": [
    "L'exercice guidé consistera en la classification de chaque lieu variant en utilisant les informations grammaticales et lexicales issues de l'annotation linguistique réalisée en amont (lemmes, parties du discours)"
   ]
  },
  {
   "cell_type": "markdown",
   "id": "831b271f-e0fe-4fac-8af2-746d1f0be12e",
   "metadata": {},
   "source": [
    "Le but est d'ajouter à chaque élément `app` un attribut `@type` afin de permettre de filtrer et d'identifier ensuite les variantes significatives."
   ]
  },
  {
   "cell_type": "markdown",
   "id": "d8b3c2ed-6640-480f-9e5d-b05613ed98c0",
   "metadata": {},
   "source": [
    "## Étape 1: récupération des informations\n",
    "Ici, on veut récupérer l'ensemble des informations utiles dans notre élément `tei:app`: chaînes de caractères, lemmes, parties du discours. On travaille donc apparat par apparat, et on veut récupérer des listes de chaque information linguistique, au niveau de l'apparat."
   ]
  },
  {
   "cell_type": "markdown",
   "id": "ec9ef89a-ef00-4997-ad4c-b9da3536ec3c",
   "metadata": {},
   "source": [
    "## Étape 2: algorithme de classification\n",
    "\n",
    "Ici, on veut produire une méthode de classification qui utilise les informations extraites auparavant. On définit ainsi un certain nombre de variantes (voir Camps, J.-B., Ing, L., & Spadini, E. (2019). Collating Medieval Vernacular Texts : Aligning Witnesses, Classifying Variants. DH2019 Digital Humanities Conference. DH2019: Complexities, Utrecht. https://dh-abstracts.library.cmu.edu/works/10074):\n",
    "- lexicale (les lemmes diffèrent)\n",
    "- graphique (seules les chaînes de caractères diffèrent)\n",
    "- grammaticale (les parties du discours diffèrent)\n",
    "- omission (un témoin ou plus omet le texte)\n",
    "\n",
    "On pourra combiner une des trois premières classe avec la classe `omission`.\n",
    "\n",
    "On pourra créer une fonction pour simplifier le traitement."
   ]
  },
  {
   "cell_type": "markdown",
   "id": "1e2db4aa-d054-41a1-8f54-da8bebb492a7",
   "metadata": {},
   "source": [
    "## Étape 3: réalisation de la chaîne de traitement"
   ]
  },
  {
   "cell_type": "markdown",
   "id": "c6793165-78ab-4efb-bfc2-98be6a54cd22",
   "metadata": {},
   "source": [
    "Chaque entrée d'apparat doit être typée à l'aide d'un attribut `@ana` (attention, cet attribut doit être un pointeur). "
   ]
  }
 ],
 "metadata": {
  "kernelspec": {
   "display_name": "Python 3 (ipykernel)",
   "language": "python",
   "name": "python3"
  },
  "language_info": {
   "codemirror_mode": {
    "name": "ipython",
    "version": 3
   },
   "file_extension": ".py",
   "mimetype": "text/x-python",
   "name": "python",
   "nbconvert_exporter": "python",
   "pygments_lexer": "ipython3",
   "version": "3.10.0"
  }
 },
 "nbformat": 4,
 "nbformat_minor": 5
}
