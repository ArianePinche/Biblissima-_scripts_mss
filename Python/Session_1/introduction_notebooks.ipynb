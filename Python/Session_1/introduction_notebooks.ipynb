{
 "cells": [
  {
   "cell_type": "markdown",
   "id": "f2efd731-3ae2-4e44-ab23-48c1905cb48b",
   "metadata": {},
   "source": [
    "# Voici un carnet"
   ]
  },
  {
   "cell_type": "markdown",
   "id": "a1ec1313-0680-4c29-ac4a-f602f3fa339a",
   "metadata": {},
   "source": [
    "Voici un carnet, ou *notebook* en anglais. Un carnet permet de produire des documents qui contiennent à la fois du code, des images, et du texte. Ils peuvent être lus et rendus par des outils spécifiques, qui permettent d'en exécuter les parties de code."
   ]
  },
  {
   "cell_type": "markdown",
   "id": "83c052cc-1ccc-49ac-ab55-aa81105ee315",
   "metadata": {},
   "source": [
    "## Fonctionnement"
   ]
  },
  {
   "cell_type": "markdown",
   "id": "617de2c7-938e-4332-a1b8-13dac7ddbc0d",
   "metadata": {},
   "source": [
    "Un carnet est composé de **cellules**, soit l'unité minimale du carnet. Chaque cellule est d'un type précis: code, markdown, texte brut."
   ]
  },
  {
   "cell_type": "markdown",
   "id": "a66ecd54-6759-42da-ab7e-60d172895411",
   "metadata": {},
   "source": [
    "### Cellules en markdown"
   ]
  },
  {
   "cell_type": "markdown",
   "id": "6d7817ac-a7a1-4365-a59c-1ea3a248e544",
   "metadata": {},
   "source": [
    "Le markdown (ou md) est un langage de structuration de texte léger, très pratique pour mettre facilement en forme du texte. Quelques caractères spéciaux suffisents à structurer: \n",
    " - les dièse pour indiquer les sections \\#\n",
    " - les astérisques pour rendre en *italique* ou en **gras**\n",
    " - le signe d'exclamation, les parenthèses et crochets droits pour les [liens](https://fr.wikipedia.org/wiki/Hyperlien) et les images: ![texte alternatif](hyperlink.svg)"
   ]
  },
  {
   "cell_type": "markdown",
   "id": "1b72fcd5-8cab-481b-8d69-391f2581f7ab",
   "metadata": {},
   "source": [
    "### Cellules en texte brut"
   ]
  },
  {
   "cell_type": "raw",
   "id": "95e9df81-23df-4a65-a6f2-557d5e99423d",
   "metadata": {},
   "source": [
    "Un notebook peut aussi contenir du texte brut, qui ne sera **pas** mis en page *automatiquement*."
   ]
  },
  {
   "cell_type": "markdown",
   "id": "1a60b8d7-d8b4-4328-b702-a524b86d17a6",
   "metadata": {},
   "source": [
    "### Cellules de code"
   ]
  },
  {
   "cell_type": "markdown",
   "id": "298f44e0-417b-418d-80ee-bf26ae8ae5c1",
   "metadata": {},
   "source": [
    "Les cellules de code permettent, quand elles sont exécutées, de faire tourner le code qu'elles contiennent:"
   ]
  },
  {
   "cell_type": "code",
   "execution_count": 10,
   "id": "de34b00f-49f7-4dd5-ace7-ad2950f30945",
   "metadata": {},
   "outputs": [
    {
     "name": "stdout",
     "output_type": "stream",
     "text": [
      "Cette phrase contient 107 caractères, espaces incluses.\n"
     ]
    }
   ],
   "source": [
    "my_string = \"Les cellules de code permettent, quand elles sont exécutées, de faire tourner le code qu'elles contiennent:\"\n",
    "print(f'Cette phrase contient {len(my_string)} caractères, espaces incluses.')"
   ]
  },
  {
   "cell_type": "markdown",
   "id": "456be238-79ac-440e-8c87-d838d2933923",
   "metadata": {},
   "source": [
    "On peut produire n'importe quel code python dans un carnet jupyter, et cela implique parfois d'importer voire d'installer des bibliothèques:"
   ]
  },
  {
   "cell_type": "code",
   "execution_count": 26,
   "id": "85949967-738f-4b86-83b9-d02a47c8cc39",
   "metadata": {},
   "outputs": [
    {
     "name": "stdout",
     "output_type": "stream",
     "text": [
      "Looking in indexes: https://pypi.org/simple, https://test.pypi.org/simple/\n",
      "Collecting dateparser\n",
      "  Downloading dateparser-1.2.1-py3-none-any.whl (295 kB)\n",
      "\u001b[K     |████████████████████████████████| 295 kB 6.2 MB/s eta 0:00:01\n",
      "\u001b[?25hCollecting tzlocal>=0.2\n",
      "  Downloading tzlocal-5.3.1-py3-none-any.whl (18 kB)\n",
      "Collecting pytz>=2024.2\n",
      "  Using cached pytz-2025.2-py2.py3-none-any.whl (509 kB)\n",
      "Requirement already satisfied: python-dateutil>=2.7.0 in /home/mgl/Bureau/programmes/jupyter_env/lib/python3.10/site-packages (from dateparser) (3.9.0)\n",
      "Collecting regex!=2019.02.19,!=2021.8.27,>=2015.06.24\n",
      "  Using cached regex-2024.11.6-cp310-cp310-manylinux_2_17_x86_64.manylinux2014_x86_64.whl (781 kB)\n",
      "Requirement already satisfied: six>=1.5 in /home/mgl/Bureau/programmes/jupyter_env/lib/python3.10/site-packages (from python-dateutil>=2.7.0->dateparser) (1.17.0)\n",
      "Installing collected packages: tzlocal, regex, pytz, dateparser\n",
      "Successfully installed dateparser-1.2.1 pytz-2025.2 regex-2024.11.6 tzlocal-5.3.1\n",
      "\u001b[33mWARNING: You are using pip version 21.2.3; however, version 25.0.1 is available.\n",
      "You should consider upgrading via the '/home/mgl/Bureau/programmes/jupyter_env/bin/python3.10 -m pip install --upgrade pip' command.\u001b[0m\n"
     ]
    }
   ],
   "source": [
    "!pip3 install dateparser\n",
    "import re\n",
    "import dateparser\n",
    "my_sentence = \"Nous sommes le 26 avril 2025\"\n",
    "parsed = dateparser.parse(my_sentence)"
   ]
  },
  {
   "cell_type": "code",
   "execution_count": 28,
   "id": "c8f6c827-5d66-457e-915f-2b6331ce1166",
   "metadata": {},
   "outputs": [
    {
     "name": "stdout",
     "output_type": "stream",
     "text": [
      "None\n"
     ]
    }
   ],
   "source": [
    "print(parsed)"
   ]
  },
  {
   "cell_type": "code",
   "execution_count": null,
   "id": "e4953f3b-e5d0-472a-be03-2d6814098975",
   "metadata": {},
   "outputs": [],
   "source": []
  }
 ],
 "metadata": {
  "kernelspec": {
   "display_name": "Python 3 (ipykernel)",
   "language": "python",
   "name": "python3"
  },
  "language_info": {
   "codemirror_mode": {
    "name": "ipython",
    "version": 3
   },
   "file_extension": ".py",
   "mimetype": "text/x-python",
   "name": "python",
   "nbconvert_exporter": "python",
   "pygments_lexer": "ipython3",
   "version": "3.10.0"
  }
 },
 "nbformat": 4,
 "nbformat_minor": 5
}
