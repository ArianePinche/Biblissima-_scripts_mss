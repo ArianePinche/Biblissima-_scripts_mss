{
 "cells": [
  {
   "cell_type": "markdown",
   "id": "329b0e76-77c2-4102-a186-b5bcabdd1453",
   "metadata": {
    "editable": true,
    "slideshow": {
     "slide_type": "slide"
    },
    "tags": []
   },
   "source": [
    "# Introduction à python-lxml pour le traitement des sources textuelles"
   ]
  },
  {
   "cell_type": "markdown",
   "id": "70af36ff-6543-444d-a046-4e182ade1043",
   "metadata": {
    "editable": true,
    "slideshow": {
     "slide_type": "slide"
    },
    "tags": []
   },
   "source": [
    "## lxml\n",
    "[lxml](https://lxml.de/) est un portage de deux bibliothèques C, libxml2 et libxslt. C'est la librairie python la plus utilisée pour le traitement des sources XML (pour le HTML, il entre en concurrence avec d'autres outils comme BeautifulSoup par exemple). "
   ]
  },
  {
   "cell_type": "markdown",
   "id": "ba1b9473-6136-4e04-840b-a4bcdb274cfc",
   "metadata": {
    "editable": true,
    "slideshow": {
     "slide_type": "slide"
    },
    "tags": []
   },
   "source": [
    "## Intérêts de Python-lxml\n",
    "- Rapidité d'exécution\n",
    "- Possibilité de 'brancher' le traitement à des outils puissants de TAL ou autres\n",
    "- Un langage plus simple que XSLT\n",
    "- Un traitement de corpus de documents *beaucoup* plus simple\n",
    "  "
   ]
  },
  {
   "cell_type": "markdown",
   "id": "b178a3b5-0f5e-4a78-8eed-216ef717640c",
   "metadata": {
    "editable": true,
    "slideshow": {
     "slide_type": "slide"
    },
    "tags": []
   },
   "source": [
    "## Limites de Python-lxml"
   ]
  },
  {
   "cell_type": "markdown",
   "id": "cafd237b-a415-4fa8-9670-32f7ad64226e",
   "metadata": {
    "editable": true,
    "slideshow": {
     "slide_type": "fragment"
    },
    "tags": []
   },
   "source": [
    "### Version de XPath limitée\n",
    "Python-lxml ne supporte que la version 1.0 de XPath: un certain nombre de fonctions ne sont donc pas disponibles; elles sont cependant souvent remplaçables par des fonctions *ad-hoc* relativement faciles à produire en python."
   ]
  },
  {
   "cell_type": "markdown",
   "id": "9c827beb-ea1f-4cd3-b94d-20b394a9c112",
   "metadata": {
    "editable": true,
    "slideshow": {
     "slide_type": "fragment"
    },
    "tags": []
   },
   "source": [
    "### Non-récursivité\n",
    "Python-lxml ne fonctionne pas selon les principes de récursivité propre au fonctionnement en *templates* de XSLT, qui vous sera présenté par Ariane Pinche. Par conséquent, ce langage est beaucoup moins adapté aux tâches de transformation profonde des documents XML, pour de la production d'éditions au format XML ou pdf par exemple."
   ]
  },
  {
   "cell_type": "markdown",
   "id": "a1ce0ba8-b7eb-4726-81af-30aebc756c99",
   "metadata": {
    "editable": true,
    "slideshow": {
     "slide_type": "slide"
    },
    "tags": []
   },
   "source": [
    "## Comparaison\n",
    "Pour résumer, XSLT sera adapté aux tâche de transformations de données structurées complexes en d'autres données structurées d'un niveau de complexité similaire. Python sera plus adapté aux tâches d'extraction et d'analyse des données. Il est bien entendu possible de combiner et d'alterner ces deux langages dans une même chaîne de traitement."
   ]
  },
  {
   "cell_type": "markdown",
   "id": "2f444ec1-4677-42be-a372-e692c2795286",
   "metadata": {
    "editable": true,
    "slideshow": {
     "slide_type": "fragment"
    },
    "tags": []
   },
   "source": [
    "| **Tâche**                                                                     | **LXML** | **XSLT**       |\n",
    "|-------------------------------------------------------------------------------|-----------------|----------------|\n",
    "| Extraction simple de données                                                  | **Faisable**        | **Faisable**       |\n",
    "| Traitement texte/image                                                        | **Faisable**        | Difficile      |\n",
    "| Traitement automatique du langage (TAL): enrichissement, extraction d'entités | **Faisable**        | Très difficile |\n",
    "| Production d'une édition complexe aux formats du web                        | Très difficile | **Faisable** |\n",
    "| Production d'une édition critique en LaTeX                                    | Très difficile     | **Faisable** |\n",
    "| Collation automatisée                                                         | **Faisable**        | Difficile      |"
   ]
  },
  {
   "cell_type": "markdown",
   "id": "42370057-c892-450d-89fe-cb5ec69921d7",
   "metadata": {
    "editable": true,
    "slideshow": {
     "slide_type": "slide"
    },
    "tags": []
   },
   "source": [
    "## Les espaces de nommage\n",
    "Les espaces de nommage ou espaces de noms sont un concept propre au XML. Le XML a une double caractéristique quant au contrôle d'un document. Un document XML est en effet **bien formé** quand il respecte les règles fondamentales du XML (pas de chevauchement des éléments, attributs séparés par des espaces, etc). \n",
    "\n",
    "Le contrôle des données d'un document ne peut se limiter à la vérification de la conformité du document aux règles XML. Il doit aussi être valide, selon les règles édictées par un **schéma** qui prendra plusieurs formes (RNC, RNG, DTD). Le XML étant un format industriel, il est fréquent que les acteurs qui l'utilisent soient de grosses institutions et consortiums qui produisent des **spécifications standards**: nous pouvons citer ALTO, PAGE, SVG, DublinCore, et bien sûr la TEI ou la MEI. \n",
    "\n",
    "L'espace de nommage permet de préciser la spécification du XML que l'on a choisie. Un espace de nommage est représenté par URI (Uniform Ressource Identifier) et par un préfixe (qui sera présenté plus bas)."
   ]
  },
  {
   "cell_type": "markdown",
   "id": "5f840f83-5b62-4a66-a688-19522b2012f5",
   "metadata": {
    "editable": true,
    "slideshow": {
     "slide_type": "slide"
    },
    "tags": []
   },
   "source": [
    "### \"Mélanger\" les spécifications\n",
    "Il n'est pas interdit (et il est parfois utile) de \"mélanger\" les différentes spécifications XML au sein d'un document. Ainsi par exemple, un document TEI pourra contenir dans son `teiHeader` un ensemble d'éléments propres à la spécification de DublinCore:\n",
    "```XML\n",
    "<?xml version=\"1.0\" encoding=\"UTF-8\"?>\n",
    "<TEI xmlns=\"http://www.tei-c.org/ns/1.0\" xmlns:rdf=\"http://www.w3.org/1999/02/22-rdf-syntax-ns#\"\n",
    "   xmlns:dc=\"http://purl.org/dc/elements/1.1/\">\n",
    "   <teiHeader>      \n",
    "      <fileDesc>\n",
    "         <titleStmt>\n",
    "            <title>Titre du document</title>\n",
    "            <author>Auteur du document</author>\n",
    "         </titleStmt>\n",
    "         <publicationStmt>\n",
    "            <publisher>Éditeur du document</publisher>\n",
    "            <date>2023-10-01</date>\n",
    "         </publicationStmt>\n",
    "         <sourceDesc>\n",
    "            <p>Source description</p>\n",
    "         </sourceDesc>\n",
    "      </fileDesc>\n",
    "      <xenoData>\n",
    "         <rdf:RDF>\n",
    "            <rdf:Description rdf:about=\"http://www.worldcat.org/oclc/606621663\">\n",
    "               <dc:title>The description of a new world, called the blazing-world</dc:title>\n",
    "               <dc:creator>The Duchess of Newcastle</dc:creator>\n",
    "               <dc:date>1667</dc:date>\n",
    "               <dc:identifier>British Library, 8407.h.10</dc:identifier>\n",
    "               <dc:subject>utopian fiction</dc:subject>\n",
    "            </rdf:Description>\n",
    "         </rdf:RDF>\n",
    "      </xenoData>\n",
    "   </teiHeader>\n",
    "   <text>\n",
    "      <body>\n",
    "         <p>Some text here.</p>\n",
    "      </body>\n",
    "   </text>\n",
    "</TEI>\n",
    "\n",
    "```\n",
    "***"
   ]
  },
  {
   "cell_type": "markdown",
   "id": "8aecb940-85b4-4f98-b895-5db0fa4f4081",
   "metadata": {
    "editable": true,
    "slideshow": {
     "slide_type": "slide"
    },
    "tags": []
   },
   "source": [
    "```XML\n",
    "<?xml version=\"1.0\" encoding=\"UTF-8\"?>\n",
    "<TEI xmlns=\"http://www.tei-c.org/ns/1.0\" xmlns:rdf=\"http://www.w3.org/1999/02/22-rdf-syntax-ns#\"\n",
    "   xmlns:dc=\"http://purl.org/dc/elements/1.1/\">\n",
    "   <teiHeader>      \n",
    "      <fileDesc>\n",
    "         <titleStmt>\n",
    "            <title>Titre du document</title>\n",
    "            <author>Auteur du document</author>\n",
    "         </titleStmt>\n",
    "         <publicationStmt>\n",
    "            <publisher>Éditeur du document</publisher>\n",
    "            <date>2023-10-01</date>\n",
    "         </publicationStmt>\n",
    "         <sourceDesc>\n",
    "            <p>Source description</p>\n",
    "         </sourceDesc>\n",
    "      </fileDesc>\n",
    "      <xenoData>\n",
    "         <rdf:RDF>\n",
    "            <rdf:Description rdf:about=\"http://www.worldcat.org/oclc/606621663\">\n",
    "               <dc:title>The description of a new world, called the blazing-world</dc:title>\n",
    "               <dc:creator>The Duchess of Newcastle</dc:creator>\n",
    "               <dc:date>1667</dc:date>\n",
    "               <dc:identifier>British Library, 8407.h.10</dc:identifier>\n",
    "               <dc:subject>utopian fiction</dc:subject>\n",
    "            </rdf:Description>\n",
    "         </rdf:RDF>\n",
    "      </xenoData>\n",
    "   </teiHeader>\n",
    "   <text>\n",
    "      <body>\n",
    "         <p>Some text here.</p>\n",
    "      </body>\n",
    "   </text>\n",
    "</TEI>\n",
    "\n",
    "```\n",
    "\n",
    "Dans l'exemple ci-dessus, repris à partir des *Guidelines* de la TEI, on combine la TEI, RDF et DublinCore. Nous observons en particulier que nous avons deux éléments `title` qui n'appartiennent pas au même espace de nommage. Le premier appartient à la TEI, et le second à DublinCore. La nécessité  de pouvoir correctement et explicitement distinguer ces éléments est claire. "
   ]
  },
  {
   "cell_type": "markdown",
   "id": "cefbf221-2a0f-4239-b1af-48707e5295bb",
   "metadata": {
    "editable": true,
    "slideshow": {
     "slide_type": "slide"
    },
    "tags": []
   },
   "source": [
    "On note que les éléments DublinCore et RDF sont identifiés par un code `rdf` ou `dc` suivi des deux points `:`. Ce code s'appelle un préfixe. Il doit être déclaré dans le noeud racine du document xml à l'aide d'attribut `xmlns` (*xml namespace*): \n",
    "\n",
    "`<TEI xmlns=\"http://www.tei-c.org/ns/1.0\" xmlns:dc=\"http://purl.org/dc/elements/1.1/\" xmlns:rdf=\"http://www.w3.org/1999/02/22-rdf-syntax-ns#\">`\n",
    "\n",
    "Le premier espace de nom ne contient pas de préfixe: il s'agit de l'espace de nommage par défaut. Tous les éléments qui ne seront pas identifiés par un préfixe se rattacheront à cet espace de nommage. "
   ]
  },
  {
   "cell_type": "markdown",
   "id": "3eb98fc6-8968-44b7-a459-003107131e40",
   "metadata": {
    "editable": true,
    "slideshow": {
     "slide_type": "slide"
    },
    "tags": []
   },
   "source": [
    "### Indiquer ou pas le préfixe?\n",
    "Vous aurez le choix dans le traitement des sources XML d'expliciter ou pas l'espace de noms des éléments que vous voulez transformer, notamment quand vous aurez à produire des requêtes XPath. Je vous recommande d'être explicite et de toujours indiquer le préfixe."
   ]
  },
  {
   "cell_type": "markdown",
   "id": "5f4f9f76-4883-47f4-9ce2-c04d7f2a9f21",
   "metadata": {
    "editable": true,
    "slideshow": {
     "slide_type": "slide"
    },
    "tags": []
   },
   "source": [
    "### Dans lxml\n",
    "La gestion des espaces de noms se fait à l'aide d'un dictionnaire dans lxml: pour chaque espace de nommage, la clé est le préfixe, et la valeur l'URI de l'espace de nommage."
   ]
  },
  {
   "cell_type": "code",
   "execution_count": null,
   "id": "a6dde15a-b3a9-4e9a-b76d-21603ebf19bc",
   "metadata": {
    "editable": true,
    "slideshow": {
     "slide_type": "fragment"
    },
    "tags": []
   },
   "outputs": [],
   "source": [
    "tei_uri = \"http://www.tei-c.org/ns/1.0\"\n",
    "dc_uri = \"http://purl.org/dc/elements/1.1/\"\n",
    "namespaces_dict = {'tei': tei_uri,\n",
    "                    'dc': dc_uri}"
   ]
  },
  {
   "cell_type": "markdown",
   "id": "a631a82c-9564-40a8-9700-6a1d996b61c5",
   "metadata": {
    "editable": true,
    "slideshow": {
     "slide_type": "fragment"
    },
    "tags": []
   },
   "source": [
    "Nous n'utiliserons pas de sources contenant des éléments DublinCore, l'exemple est écrit ainsi pour vous donner une idée. Intéressons nous à la manipulation du document.\n",
    "\n",
    "⚠ **ATTENTION** ⚠: Les premiers contacts avec les langages de transformation du XML peuvent être frustrants. Un adage de la communauté TEI est que si quelque chose ne marche pas comme prévu, il est fort probable que ça soit à cause de l'espace de nommage. Vérifiez-bien si tout est en règle de ce point de vue là en cas de problème!\n",
    "***"
   ]
  },
  {
   "cell_type": "markdown",
   "id": "bcca8df0-abcd-4c5f-87a2-6923392b913a",
   "metadata": {
    "editable": true,
    "slideshow": {
     "slide_type": "slide"
    },
    "tags": []
   },
   "source": [
    "# Manipulation de l'arbre XML"
   ]
  },
  {
   "cell_type": "markdown",
   "id": "13ca8a39-aa6e-4759-a5a7-edbc02d0801b",
   "metadata": {
    "editable": true,
    "slideshow": {
     "slide_type": "skip"
    },
    "tags": []
   },
   "source": [
    "⚠ **IMPORTANT** ⚠: Les modifications de l'arbre XML se font en place (*in place*) et non pas par copie. Vous ne pourrez *pas* refaire l'exercice deux fois sans erreur si vous ne réinitialisez pas l'ensemble des variables."
   ]
  },
  {
   "cell_type": "markdown",
   "id": "610399bc-8827-4458-b36f-272b034572c5",
   "metadata": {
    "editable": true,
    "slideshow": {
     "slide_type": "fragment"
    },
    "tags": []
   },
   "source": [
    "## Parser le fichier\n",
    "On va commencer par importer notre librairie."
   ]
  },
  {
   "cell_type": "code",
   "execution_count": null,
   "id": "88c22025-b224-43bf-838d-a9c56b000b80",
   "metadata": {
    "editable": true,
    "slideshow": {
     "slide_type": "fragment"
    },
    "tags": []
   },
   "outputs": [],
   "source": [
    "import lxml.etree as etree"
   ]
  },
  {
   "cell_type": "markdown",
   "id": "dd1e97c5-faee-4f71-90d6-1239abb8939b",
   "metadata": {
    "editable": true,
    "slideshow": {
     "slide_type": "fragment"
    },
    "tags": []
   },
   "source": [
    "La méthode `parse()` nous dispense d'ouvrir le fichier avec `open()`:"
   ]
  },
  {
   "cell_type": "code",
   "execution_count": null,
   "id": "cfcc588a-5c91-498f-8789-cae4c6a30024",
   "metadata": {
    "editable": false,
    "slideshow": {
     "slide_type": "fragment"
    },
    "tags": []
   },
   "outputs": [],
   "source": [
    "fichier = 'fichier_xml_1.xml'\n",
    "document_as_xml = etree.parse(fichier)\n",
    "print(document_as_xml)"
   ]
  },
  {
   "cell_type": "markdown",
   "id": "457d9798-0501-4de6-9e8a-9b3f947430d2",
   "metadata": {
    "editable": true,
    "slideshow": {
     "slide_type": "slide"
    },
    "tags": []
   },
   "source": [
    "Nous obtenons un objet `lxml.etree._ElementTree`. Voyons les méthodes que l'on peut lui appliquer:"
   ]
  },
  {
   "cell_type": "code",
   "execution_count": null,
   "id": "40add0c6-f09a-4f31-ae41-ea15781d46ea",
   "metadata": {
    "editable": true,
    "slideshow": {
     "slide_type": "fragment"
    },
    "tags": []
   },
   "outputs": [],
   "source": [
    "print(dir(document_as_xml))"
   ]
  },
  {
   "cell_type": "markdown",
   "id": "88a97e84-53fe-40d5-8b98-44953f566a56",
   "metadata": {
    "editable": true,
    "slideshow": {
     "slide_type": ""
    },
    "tags": []
   },
   "source": [
    "Nous nous intéresserons presque exclusivement à la méthode `xpath()` ici, mais notez les méthodes `xinclude` (parser les éléments inclus via un élément `xi:include` -- encore un autre espace de noms! -- ou xslt pour appliquer une feuille de transformation xslt à l'objet sélectionné."
   ]
  },
  {
   "cell_type": "markdown",
   "id": "dd264afd-248d-4204-92bc-db4665fa5b11",
   "metadata": {
    "editable": true,
    "slideshow": {
     "slide_type": "slide"
    },
    "tags": []
   },
   "source": [
    "Voyons maintenant comment fonctionnent les différents noeuds XML dans lxml. Je me sers ici de la documentation officielle de lxml ([ici](https://lxml.de/tutorial.html))."
   ]
  },
  {
   "cell_type": "markdown",
   "id": "18625e41-c339-463e-bbe3-9ad0aa4b609c",
   "metadata": {
    "editable": true,
    "slideshow": {
     "slide_type": "slide"
    },
    "tags": []
   },
   "source": [
    "### Récupération de la racine\n",
    "La racine du document XML s'obtient avec la méthode `getroot()`:"
   ]
  },
  {
   "cell_type": "code",
   "execution_count": null,
   "id": "8f7cb8b3-5a24-4104-8369-11b96a3b7bc8",
   "metadata": {
    "editable": true,
    "slideshow": {
     "slide_type": "fragment"
    },
    "tags": []
   },
   "outputs": [],
   "source": [
    "racine = document_as_xml.getroot()\n",
    "print(racine)"
   ]
  },
  {
   "cell_type": "markdown",
   "id": "9742c3c9-8363-4c0e-a74d-3c4207fe7666",
   "metadata": {
    "editable": true,
    "slideshow": {
     "slide_type": "slide"
    },
    "tags": []
   },
   "source": [
    "### Les éléments XML sont des listes\n",
    "Chaque noeud XML de notre arbre est un objet `lxml.etree.Element`, qui est une liste (dont les composants sont tous les éléments qu'il contient):"
   ]
  },
  {
   "cell_type": "code",
   "execution_count": null,
   "id": "7ef53253-d844-4ceb-adbb-9665e42f50af",
   "metadata": {
    "editable": true,
    "slideshow": {
     "slide_type": "fragment"
    },
    "tags": []
   },
   "outputs": [],
   "source": [
    "print([item for item in racine])"
   ]
  },
  {
   "cell_type": "markdown",
   "id": "0ed05f5e-c0ac-4111-80b1-24e4133674a7",
   "metadata": {
    "editable": true,
    "slideshow": {
     "slide_type": ""
    },
    "tags": []
   },
   "source": [
    "On peut donc choisir un élément par son index dans la liste:"
   ]
  },
  {
   "cell_type": "code",
   "execution_count": null,
   "id": "2f0d27a2-b8aa-4c3c-b9de-66fffdaf8884",
   "metadata": {
    "editable": true,
    "slideshow": {
     "slide_type": "fragment"
    },
    "tags": []
   },
   "outputs": [],
   "source": [
    "header = racine[0]\n",
    "print(header)"
   ]
  },
  {
   "cell_type": "markdown",
   "id": "e574e03d-3762-47ce-b111-873f1eca83f7",
   "metadata": {
    "editable": true,
    "slideshow": {
     "slide_type": "fragment"
    },
    "tags": []
   },
   "source": [
    "Le premier élément de notre arbre correspond à l'item d'index 0 de la liste: le `teiHeader`. On peut accéder à son non avec l'attribut `tag`:"
   ]
  },
  {
   "cell_type": "code",
   "execution_count": null,
   "id": "232a7b03-f2bf-4356-b8f8-9e57a3f227af",
   "metadata": {
    "editable": true,
    "slideshow": {
     "slide_type": "fragment"
    },
    "tags": []
   },
   "outputs": [],
   "source": [
    "print(header.tag)"
   ]
  },
  {
   "cell_type": "markdown",
   "id": "089051eb-a246-4ab0-8e37-cc01fc2ea6bd",
   "metadata": {
    "editable": true,
    "slideshow": {
     "slide_type": "fragment"
    },
    "tags": []
   },
   "source": [
    "On voit à nouveau apparaître notre espace de nommage dans le nom de l'élément."
   ]
  },
  {
   "cell_type": "code",
   "execution_count": null,
   "id": "dcbf0491-5256-4d2a-80b5-be9917d72fdd",
   "metadata": {
    "editable": true,
    "slideshow": {
     "slide_type": "fragment"
    },
    "tags": []
   },
   "outputs": [],
   "source": [
    "print(racine[1])"
   ]
  },
  {
   "cell_type": "markdown",
   "id": "543cd40a-389f-4f59-b59e-06e36c1ff0fe",
   "metadata": {
    "editable": true,
    "slideshow": {
     "slide_type": "slide"
    },
    "tags": []
   },
   "source": [
    "Le second élément correspond au `body`. On note bien que l'espace de noms est systématiquement explicité par lxml. "
   ]
  },
  {
   "cell_type": "markdown",
   "id": "bea9abbc-0893-42b7-9555-a72a0a7be375",
   "metadata": {
    "editable": true,
    "slideshow": {
     "slide_type": "fragment"
    },
    "tags": []
   },
   "source": [
    "Enfin, on peut aller plus loin dans la structure en interrogeant les sous-listes:"
   ]
  },
  {
   "cell_type": "code",
   "execution_count": null,
   "id": "e4e18679-92a1-4320-bb47-15b6c231bd31",
   "metadata": {
    "editable": true,
    "slideshow": {
     "slide_type": "fragment"
    },
    "tags": []
   },
   "outputs": [],
   "source": [
    "print(racine[0][0])"
   ]
  },
  {
   "cell_type": "markdown",
   "id": "c63a397e-28c3-4dd8-876f-0f3bc416fab6",
   "metadata": {
    "editable": true,
    "slideshow": {
     "slide_type": "fragment"
    },
    "tags": []
   },
   "source": [
    "Ici, on va trouver le premier élément du `teiHeader`."
   ]
  },
  {
   "cell_type": "markdown",
   "id": "4df4c5f4-cb0d-4a94-8f27-0637800c5596",
   "metadata": {
    "editable": true,
    "slideshow": {
     "slide_type": "fragment"
    },
    "tags": []
   },
   "source": [
    "On peut donc effectuer toutes les opérations applicables aux listes: boucles, compréhensions, etc: c'est ce qui fait de lxml un outil extrêmement puissant. À l'inverse, le système d'imbrication n'est pas conservé, puisque le système de *templates* n'existe pas dans lxml."
   ]
  },
  {
   "cell_type": "markdown",
   "id": "ea077052-4409-497f-af2d-1aff7e1c5a67",
   "metadata": {
    "editable": true,
    "slideshow": {
     "slide_type": "slide"
    },
    "tags": []
   },
   "source": [
    "### Les éléments portent leurs attributs comme des dictionnaires\n",
    "On peut accéder aux attributs d'un élément avec l'attribut `attrib`. Voici un exemple (la première ligne de code est expliquée [plus bas](#Naviguer-dans-l'arbre:-la-méthode-xpath()))."
   ]
  },
  {
   "cell_type": "code",
   "execution_count": null,
   "id": "7636f324-8ce6-41c2-9ed7-2038823dc5ef",
   "metadata": {
    "editable": true,
    "slideshow": {
     "slide_type": "fragment"
    },
    "tags": []
   },
   "outputs": [],
   "source": [
    "first_metsym = racine.xpath(\"//tei:metSym\", namespaces=namespaces_dict)[0]\n",
    "attributs = first_metsym.attrib\n",
    "print(attributs)"
   ]
  },
  {
   "cell_type": "markdown",
   "id": "be9a8605-8719-4c32-a23f-9fce0789db33",
   "metadata": {
    "editable": true,
    "slideshow": {
     "slide_type": "fragment"
    },
    "tags": []
   },
   "source": [
    "On peut modifier la valeur d'un élément du dictionnaire comme on le fait normalement:"
   ]
  },
  {
   "cell_type": "code",
   "execution_count": null,
   "id": "d9091f7b-b7d1-4884-b893-cb7c95af9600",
   "metadata": {
    "editable": true,
    "slideshow": {
     "slide_type": "fragment"
    },
    "tags": []
   },
   "outputs": [],
   "source": [
    "attributs['value'] = 'valeur_corrigée'\n",
    "attributs['nouvel_attribut'] = 'une_autre_valeur'\n",
    "first_metsym.attrib"
   ]
  },
  {
   "cell_type": "markdown",
   "id": "8380ccaf-051e-4b31-8a07-0d1576f28612",
   "metadata": {
    "editable": true,
    "slideshow": {
     "slide_type": "fragment"
    },
    "tags": []
   },
   "source": [
    "Nous verrons [plus bas](#Créer-un-attribut) une autre manière de créer un attribut."
   ]
  },
  {
   "cell_type": "markdown",
   "id": "8642b91d-b0f6-4b18-8080-43161d1fc003",
   "metadata": {
    "editable": true,
    "slideshow": {
     "slide_type": "slide"
    },
    "tags": []
   },
   "source": [
    "## Sérialiser et enregistrer l'arbre\n",
    "La sérialisation correspond à l'acte de sauvegarde d'une donnée à un format stable. Ici, plus simplement, il s'agit de l'enregistrement de notre document XML (qui a été désérialisé lors du *parsing*).\n",
    "\n",
    "La méthode `etree.tostring()` permet de sérialiser un arbre importé: elle renvoie une chaîne de caractère en bytes qu'il va falloir convertir en chaîne. "
   ]
  },
  {
   "cell_type": "code",
   "execution_count": null,
   "id": "58dfff6c-26fe-4a41-84fa-41bff46dd370",
   "metadata": {
    "editable": true,
    "slideshow": {
     "slide_type": "slide"
    },
    "tags": []
   },
   "outputs": [],
   "source": [
    "xml_as_string = etree.tostring(racine, pretty_print=True).decode()\n",
    "print(xml_as_string)"
   ]
  },
  {
   "cell_type": "markdown",
   "id": "d79812d9-6c96-4148-97d4-f8a688b4b76c",
   "metadata": {
    "editable": true,
    "slideshow": {
     "slide_type": ""
    },
    "tags": []
   },
   "source": [
    "Nous pouvons maintenant enregistrer cette sérialisation:"
   ]
  },
  {
   "cell_type": "code",
   "execution_count": null,
   "id": "61d2c1f6-9bc8-42cf-9849-b7856baaf6b1",
   "metadata": {
    "editable": true,
    "slideshow": {
     "slide_type": ""
    },
    "tags": []
   },
   "outputs": [],
   "source": [
    "with open(\"fichier_xml_1.copie.xml\", \"w\") as output_xml:\n",
    "    output_xml.write(xml_as_string)"
   ]
  },
  {
   "cell_type": "markdown",
   "id": "a4e279e7-c471-49a5-a53e-b4dfbf2f6087",
   "metadata": {
    "editable": true,
    "slideshow": {
     "slide_type": "slide"
    },
    "tags": []
   },
   "source": [
    "## Naviguer dans l'arbre: la méthode `xpath()`\n",
    "\n",
    "La méthode `xpath(requête, namespaces)` qui est appliquée sur un noeud XML (la racine ou autre) est la plus adéquate ici. Elle accepte des **requêtes XPath 1.0**. Le résultat produit est à nouveau **une liste** (qui sera vide si l'élément cherché n'est pas présent dans le document) ou une valeur.\n",
    "\n",
    "Attention aux espaces de noms avec le paramètre namespaces (au pluriel) qui doit renvoyer vers le dictionnaire recensant l'ensemble des espaces de noms du corpus. "
   ]
  },
  {
   "cell_type": "code",
   "execution_count": null,
   "id": "a91445b1-d065-49c9-9788-0f2af4b1be2a",
   "metadata": {
    "editable": true,
    "slideshow": {
     "slide_type": "fragment"
    },
    "tags": []
   },
   "outputs": [],
   "source": [
    "all_lg = racine.xpath(\"descendant::tei:lg\", namespaces=namespaces_dict)\n",
    "print(all_lg)"
   ]
  },
  {
   "cell_type": "markdown",
   "id": "83825a0b-ab49-4cbc-8c7c-d37037d51e64",
   "metadata": {
    "editable": true,
    "slideshow": {
     "slide_type": "fragment"
    },
    "tags": []
   },
   "source": [
    "⚠ **ATTENTION** ⚠: sélectionner un noeud sélectionne aussi la chaîne de caractère qui le suit directement (le *tail* en anglais) car elle est considérée comme rattachée à ce noeud. Cette caractéristique est propre à lxml et n'est pas partagée par les autres librairies de traitement de sources XML. Déplacer ou supprimer des noeuds peut donc mener à des conséquences imprévues et il faut l'avoir en tête à l'heure de travailler avec lxml."
   ]
  },
  {
   "cell_type": "code",
   "execution_count": null,
   "id": "4c1f4cae-bca8-4eed-b089-fa3b1450213c",
   "metadata": {
    "editable": true,
    "slideshow": {
     "slide_type": "fragment"
    },
    "tags": []
   },
   "outputs": [],
   "source": [
    "caesura = racine.xpath(\"descendant::tei:caesura\", namespaces=namespaces_dict)[0]\n",
    "print(etree.tostring(caesura, pretty_print=True).decode())"
   ]
  },
  {
   "cell_type": "markdown",
   "id": "636ca629-98b7-494e-a046-b6027dd8729c",
   "metadata": {
    "editable": true,
    "slideshow": {
     "slide_type": "slide"
    },
    "tags": []
   },
   "source": [
    "## Récupérer les noeuds textuels d'un élément XML\n",
    "L'attribut `text` d'un objet `lxml.etree._Element` XML contient le texte inclus dans cet élément *jusqu'au premier élément XML qu'il contient*:"
   ]
  },
  {
   "cell_type": "code",
   "execution_count": null,
   "id": "c0d9d0df-e810-45f7-b5fa-a6348730a1d3",
   "metadata": {
    "editable": true,
    "slideshow": {
     "slide_type": "fragment"
    },
    "tags": []
   },
   "outputs": [],
   "source": [
    "foot_with_caesura = racine.xpath(\"descendant::tei:seg[tei:caesura]\", namespaces=namespaces_dict)[0]\n",
    "print(etree.tostring(foot_with_caesura).decode())"
   ]
  },
  {
   "cell_type": "markdown",
   "id": "45a111af-4587-4c6f-9c7f-b04d33687436",
   "metadata": {
    "editable": true,
    "slideshow": {
     "slide_type": "fragment"
    },
    "tags": []
   },
   "source": [
    "Voyons ce que contient l'attribut `text` ici:"
   ]
  },
  {
   "cell_type": "code",
   "execution_count": null,
   "id": "047caf33-05ce-4122-b6ac-685da480b39c",
   "metadata": {
    "editable": true,
    "slideshow": {
     "slide_type": "fragment"
    },
    "tags": []
   },
   "outputs": [],
   "source": [
    "foot_with_caesura.text"
   ]
  },
  {
   "cell_type": "markdown",
   "id": "3862c27d-ea8a-4bd1-a7a6-156a7a47b005",
   "metadata": {
    "editable": true,
    "slideshow": {
     "slide_type": "fragment"
    },
    "tags": []
   },
   "source": [
    "Nous pouvons utiliser la méthode `itertext()` qui renvoie un générateur comprenant l'ensemble des noeuds textuels compris dans un noeud donné, mais cela revient souvent à écraser la structure et à la perdre:"
   ]
  },
  {
   "cell_type": "code",
   "execution_count": null,
   "id": "a5f0e641-b399-4403-8773-2aec04aff6b2",
   "metadata": {
    "editable": true,
    "slideshow": {
     "slide_type": "fragment"
    },
    "tags": []
   },
   "outputs": [],
   "source": [
    "print([item for item in foot_with_caesura.itertext()])"
   ]
  },
  {
   "cell_type": "markdown",
   "id": "66d20fef-e3d6-4fb4-b481-0757d34dc413",
   "metadata": {
    "editable": true,
    "slideshow": {
     "slide_type": "fragment"
    },
    "tags": []
   },
   "source": [
    "**Nous touchons ici à une des limites de lxml**. Le traitement des sources structurées en XML-TEI avec une complexité importante (une source avec beaucoup d'abréviations, par exemple) est ardu et il est potentiellement plus simple de travailler avec XSLT pour ce genre de tâches, quitte à revenir à python plus tard."
   ]
  },
  {
   "cell_type": "markdown",
   "id": "f4d166ae-8127-4b3c-805e-a0d5b5b66a07",
   "metadata": {
    "editable": true,
    "slideshow": {
     "slide_type": "slide"
    },
    "tags": []
   },
   "source": [
    "## Créer un attribut\n",
    "La création d'attributs set fait grâce à la méthode `set('attribut', 'valeur')` appliquée à l'élément choisi. \n",
    "\n",
    "Imaginons que nous voulions indiquer que l'identification de la césure dans le dernier vers à l'aide de l'élément `caesura` est assumée de science certaine. Nous allons utiliser l'attribut `@cert` pour cela:"
   ]
  },
  {
   "cell_type": "code",
   "execution_count": null,
   "id": "b20d01fd-5475-45dd-93c0-dc15adce628e",
   "metadata": {
    "editable": true,
    "slideshow": {
     "slide_type": "fragment"
    },
    "tags": []
   },
   "outputs": [],
   "source": [
    "caesuras = racine.xpath(\"descendant::tei:caesura\", namespaces=namespaces_dict)\n",
    "print(caesuras)"
   ]
  },
  {
   "cell_type": "markdown",
   "id": "a6eebe8d-1a7a-4e2f-9762-4503c9ec6797",
   "metadata": {
    "editable": true,
    "slideshow": {
     "slide_type": "fragment"
    },
    "tags": []
   },
   "source": [
    "La méthode xpath renvoie (presque) toujours une liste même si elle ne contient qu'un élément: il faut donc veiller à sélectionner cet élément explicitement en indiquant sa position dans la liste."
   ]
  },
  {
   "cell_type": "code",
   "execution_count": null,
   "id": "0de58925-4de2-4ed1-993f-c3b933ee664b",
   "metadata": {
    "editable": true,
    "slideshow": {
     "slide_type": "fragment"
    },
    "tags": []
   },
   "outputs": [],
   "source": [
    "caesuras[1].set('cert', 'high')"
   ]
  },
  {
   "cell_type": "markdown",
   "id": "faf84a73-8caf-425b-84b5-7fc647e1e2a7",
   "metadata": {
    "editable": true,
    "slideshow": {
     "slide_type": "slide"
    },
    "tags": []
   },
   "source": [
    "Regardons le résultat en ciblant le couplet:"
   ]
  },
  {
   "cell_type": "code",
   "execution_count": null,
   "id": "2e890170-2dea-45d9-9a2d-a8e1bfb7aa07",
   "metadata": {
    "editable": true,
    "slideshow": {
     "slide_type": "fragment"
    },
    "tags": []
   },
   "outputs": [],
   "source": [
    "modified_lg = racine.xpath(\"descendant::tei:lg[@type='couplet']\", namespaces=namespaces_dict)[0]\n",
    "print(etree.tostring(modified_lg, pretty_print=True).decode())"
   ]
  },
  {
   "cell_type": "markdown",
   "id": "752fd65a-e9c8-4e32-8430-4437f48dfa46",
   "metadata": {
    "editable": true,
    "slideshow": {
     "slide_type": "slide"
    },
    "tags": []
   },
   "source": [
    "## Créer un élément et l'insérer dans l'arbre\n",
    "Une fois encore, le point le plus important n'est pas la création de nouveaux éléments, mais l'attribution de l'espace de nommage correct à ces éléments. Dans le cas inverse, vous ne pourrez pas les manipuler comme des noeuds TEI, par exemple.\n",
    "\n",
    "La manipulation des espaces de nommage pour la production de nouveaux éléments est un peu distincte que pour le requêtage des arbres XML. On va ici créer un nouveau dictionnaire sans indiquer le préfixe afin qu'il ne soit pas ajouté dans le nom de l'élément lors de la sérialisation (voir [ici](https://lxml.de/tutorial.html#namespaces))."
   ]
  },
  {
   "cell_type": "code",
   "execution_count": null,
   "id": "70f7119b-41a2-4adf-a7b9-763d9b264994",
   "metadata": {
    "editable": true,
    "slideshow": {
     "slide_type": "fragment"
    },
    "tags": []
   },
   "outputs": [],
   "source": [
    "tei_ns = \"{%s}\" % tei_uri\n",
    "NSMAP_no_prefix = {None: tei_uri}"
   ]
  },
  {
   "cell_type": "markdown",
   "id": "05cf3a9b-8763-4c3e-a037-1dcfab83d86a",
   "metadata": {
    "editable": true,
    "slideshow": {
     "slide_type": "slide"
    },
    "tags": []
   },
   "source": [
    "Créons une note que nous allons ajouter au titre de notre sonnet."
   ]
  },
  {
   "cell_type": "code",
   "execution_count": null,
   "id": "12b1658e-7785-40bc-af30-5bc6cfdd1bfe",
   "metadata": {
    "editable": true,
    "slideshow": {
     "slide_type": "fragment"
    },
    "tags": []
   },
   "outputs": [],
   "source": [
    "ma_note = etree.Element(tei_ns + \"note\", nsmap=NSMAP_no_prefix)"
   ]
  },
  {
   "cell_type": "markdown",
   "id": "f0d81918-0fbd-4c47-b896-c5c7c65b43fa",
   "metadata": {
    "editable": true,
    "slideshow": {
     "slide_type": "fragment"
    },
    "tags": []
   },
   "source": [
    "On peut lui ajouter le texte que l'on veut, via l'attribut `text`:"
   ]
  },
  {
   "cell_type": "code",
   "execution_count": null,
   "id": "c81adc36-e973-4d05-94a1-bad7be694888",
   "metadata": {
    "editable": true,
    "slideshow": {
     "slide_type": "fragment"
    },
    "tags": []
   },
   "outputs": [],
   "source": [
    "ma_note.text = \"Ceci est ma première note concernant le sonnet.\""
   ]
  },
  {
   "cell_type": "code",
   "execution_count": null,
   "id": "98ba9cbc-495c-42e7-8189-10df10bcb4ec",
   "metadata": {
    "editable": true,
    "slideshow": {
     "slide_type": "fragment"
    },
    "tags": []
   },
   "outputs": [],
   "source": [
    "print(etree.tostring(ma_note, pretty_print=True).decode())"
   ]
  },
  {
   "cell_type": "markdown",
   "id": "77eedbcc-295f-4281-8801-eb03d1debe75",
   "metadata": {
    "editable": true,
    "slideshow": {
     "slide_type": "slide"
    },
    "tags": []
   },
   "source": [
    "On peut maintenant l'insérer à l'endroit que l'on souhaite. Pour ce faire, on va utiliser la méthode `insert(index, sous-element)` appliquée à l'élément parent."
   ]
  },
  {
   "cell_type": "code",
   "execution_count": null,
   "id": "c0e481f8-41ac-4c2d-8b13-40a69a0e8237",
   "metadata": {
    "editable": true,
    "slideshow": {
     "slide_type": "fragment"
    },
    "tags": []
   },
   "outputs": [],
   "source": [
    "element_parent = racine.xpath(\"descendant::tei:body/descendant::tei:head\", namespaces=namespaces_dict)[0]\n",
    "element_parent.insert(1, ma_note)"
   ]
  },
  {
   "cell_type": "markdown",
   "id": "8eccb7e4-b112-4168-8134-03d9496e3f7f",
   "metadata": {
    "editable": true,
    "slideshow": {
     "slide_type": "slide"
    },
    "tags": []
   },
   "source": [
    "Regardons ce que cela a donné:"
   ]
  },
  {
   "cell_type": "code",
   "execution_count": null,
   "id": "76907fc5-040a-4a58-b2a8-494bf77a8351",
   "metadata": {
    "editable": true,
    "slideshow": {
     "slide_type": "fragment"
    },
    "tags": []
   },
   "outputs": [],
   "source": [
    "print(etree.tostring(element_parent, pretty_print=True).decode())"
   ]
  },
  {
   "cell_type": "markdown",
   "id": "07a9c314-bab4-4ada-aaa8-71234f7082bf",
   "metadata": {
    "editable": true,
    "slideshow": {
     "slide_type": "skip"
    },
    "tags": []
   },
   "source": [
    "Il existe d'autres méthodes pour créer et/ou insérer des noeuds: `SubElement()`, `append()`, `addnext()`, `addprevious()`. La documentation vous permettra de choisir la méthode la plus adaptée à vos besoins."
   ]
  },
  {
   "cell_type": "markdown",
   "id": "3717d67a-369c-435b-a3e6-df57dcc4568b",
   "metadata": {
    "editable": true,
    "slideshow": {
     "slide_type": "slide"
    },
    "tags": []
   },
   "source": [
    "## Supprimer un élément\n",
    "Il n'y a pas de manière directe de supprimer un élément. Il existe une méthode indirecte avec la fonction `strip_elements()`. Elle suppose d'identifier l'élément à supprimer, de sélectionner son parent, et de supprimer l'élément ciblé.  Il est important d'ajouter le paramètre `with_tail=False` pour éviter de supprimer les noeuds textuels qui suivent directement l'élément à supprimer (https://stackoverflow.com/a/41359368). Supprimons notre premier élément `caesura`:"
   ]
  },
  {
   "cell_type": "code",
   "execution_count": null,
   "id": "87ac6b1c-ed5a-4425-868d-0939046b5cff",
   "metadata": {
    "editable": true,
    "slideshow": {
     "slide_type": "fragment"
    },
    "tags": []
   },
   "outputs": [],
   "source": [
    "etree.strip_elements(caesuras[0].getparent(), '{http://www.tei-c.org/ns/1.0}caesura', with_tail=False)"
   ]
  },
  {
   "cell_type": "code",
   "execution_count": null,
   "id": "68f367da-de4d-4af3-90f3-7179d5185c33",
   "metadata": {
    "editable": true,
    "slideshow": {
     "slide_type": "slide"
    },
    "tags": []
   },
   "outputs": [],
   "source": [
    "modified_lg = racine.xpath(\"descendant::tei:lg[@type='quatrain'][3]\", namespaces=namespaces_dict)[0]\n",
    "print(etree.tostring(modified_lg, pretty_print=True).decode())"
   ]
  },
  {
   "cell_type": "code",
   "execution_count": null,
   "id": "705797fa-5259-4e2a-90b1-b578ce780865",
   "metadata": {
    "editable": true,
    "raw_mimetype": "",
    "slideshow": {
     "slide_type": "slide"
    },
    "tags": []
   },
   "outputs": [],
   "source": [
    "## Document final\n",
    "xml_as_string = etree.tostring(racine, pretty_print=True).decode()\n",
    "with open(\"fichier_xml_1_final.xml\", \"w\") as output_xml:\n",
    "    output_xml.write(xml_as_string)"
   ]
  }
 ],
 "metadata": {
  "kernelspec": {
   "display_name": "Python 3 (ipykernel)",
   "language": "python",
   "name": "python3"
  },
  "language_info": {
   "codemirror_mode": {
    "name": "ipython",
    "version": 3
   },
   "file_extension": ".py",
   "mimetype": "text/x-python",
   "name": "python",
   "nbconvert_exporter": "python",
   "pygments_lexer": "ipython3",
   "version": "3.10.0"
  }
 },
 "nbformat": 4,
 "nbformat_minor": 5
}
