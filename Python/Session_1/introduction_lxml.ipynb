{
 "cells": [
  {
   "cell_type": "markdown",
   "id": "817fae06-77d0-4aa6-9f5c-2e7f31bfefbe",
   "metadata": {
    "editable": false,
    "slideshow": {
     "slide_type": "slide"
    },
    "tags": []
   },
   "source": [
    "# Introduction à python-lxml"
   ]
  },
  {
   "cell_type": "markdown",
   "id": "ba1b9473-6136-4e04-840b-a4bcdb274cfc",
   "metadata": {
    "editable": true,
    "slideshow": {
     "slide_type": "slide"
    },
    "tags": []
   },
   "source": [
    "## Intérêts de Python\n",
    "- Rapidité d'exécution\n",
    "- Possibilité de 'brancher' le traitement à des outils puissants de TAL ou autres\n",
    "- Un langage plus simple que XSLT\n",
    "- Un traitement de corpus de documents *beaucoup* plus simple\n",
    "  "
   ]
  },
  {
   "cell_type": "markdown",
   "id": "b178a3b5-0f5e-4a78-8eed-216ef717640c",
   "metadata": {
    "editable": true,
    "slideshow": {
     "slide_type": "slide"
    },
    "tags": []
   },
   "source": [
    "## Limites de python-lxml"
   ]
  },
  {
   "cell_type": "markdown",
   "id": "cafd237b-a415-4fa8-9670-32f7ad64226e",
   "metadata": {
    "editable": true,
    "slideshow": {
     "slide_type": "fragment"
    },
    "tags": []
   },
   "source": [
    "### Version de xpath limitée\n",
    "Python-lxml ne supporte que la version 1.0 de XPath: un certain nombre de fonctions ne sont donc pas disponibles; elles sont cependant souvent remplaçables par des fonctions *ad-hoc* relativement faciles à produire en python."
   ]
  },
  {
   "cell_type": "markdown",
   "id": "9c827beb-ea1f-4cd3-b94d-20b394a9c112",
   "metadata": {
    "editable": true,
    "slideshow": {
     "slide_type": "fragment"
    },
    "tags": []
   },
   "source": [
    "### Non-récursivité\n",
    "Python-lxml ne fonctionne pas selon les principes de récursivité propre au fonctionnement en *templates* de XSLT, qui vous sera présenté par Ariane Pinche. Par conséquent, ce langage est beaucoup moins adapté aux tâches de transformation profonde des documents XML, pour de la production d'éditions au format XML ou pdf par exemple."
   ]
  },
  {
   "cell_type": "markdown",
   "id": "a1ce0ba8-b7eb-4726-81af-30aebc756c99",
   "metadata": {
    "editable": true,
    "slideshow": {
     "slide_type": "slide"
    },
    "tags": []
   },
   "source": [
    "## Comparaison"
   ]
  },
  {
   "cell_type": "markdown",
   "id": "50eb8f80-26fb-4f8e-8918-f5b576899903",
   "metadata": {
    "editable": true,
    "slideshow": {
     "slide_type": "fragment"
    },
    "tags": []
   },
   "source": [
    "Pour résumer, XSLT sera adapté aux tâche de transformations de données structurées complexes en d'autres données structurées d'un niveau de complexité similaire. Python sera plus adapté aux tâches d'extraction et d'analyse des données. Il est bien entendu possible de combiner et d'alterner ces deux langages dans une même chaîne de traitement.\n",
    "\n",
    "\n",
    "| **Tâche**                                                                     | **Python-lxml** | **XSLT**       |\n",
    "|-------------------------------------------------------------------------------|-----------------|----------------|\n",
    "| Extraction simple de données                                                  | **Faisable**        | **Faisable**       |\n",
    "| Traitement texte/image                                                        | **Faisable**        | Difficile      |\n",
    "| Traitement automatique du langage (TAL): enrichissement, extraction d'entités | **Faisable**        | Très difficile |\n",
    "| Production d'une édition complexe aux formats du web                        | Très difficile | **Faisable** |\n",
    "| Production d'une édition critique en LaTeX                                    | Très difficile     | **Faisable** |\n",
    "| Collation automatisée                                                         | **Faisable**        | Difficile      |\n"
   ]
  },
  {
   "cell_type": "markdown",
   "id": "42370057-c892-450d-89fe-cb5ec69921d7",
   "metadata": {
    "editable": true,
    "slideshow": {
     "slide_type": "slide"
    },
    "tags": []
   },
   "source": [
    "## Les espaces de nommage\n",
    "Les espaces de nommage ou espaces de noms sont un concept propre au XML. Le XML a une double caractéristique quant au contrôle d'un document. Un document XML est en effet **bien formé** quand il respecte les règles fondamentales du XML (pas de chevauchement des éléments, attributs séparés par des espaces, etc). \n",
    "\n",
    "Le contrôle des données d'un document ne peut se limiter à la vérification de la conformité du document aux règles XML. Il doit aussi être valide, selon les règles édictées par un **schéma** qui prendra plusieurs formes (RNC, RNG, DTD). Le XML étant un format industriel, il est fréquent que les acteurs qui l'utilisent soient de grosses institutions et consortiums qui produisent des **spécifications standards**: nous pouvons citer ALTO, PAGE, SVG, DublinCore, et bien sûr la TEI ou la MEI. \n",
    "\n",
    "L'espace de nommage permet de préciser la spécification du XML que l'on a choisie. Un espace de nommage est représenté par URI (Uniform Ressource Identifier) et par un préfixe (qui sera présenté plus bas)."
   ]
  },
  {
   "cell_type": "markdown",
   "id": "5f840f83-5b62-4a66-a688-19522b2012f5",
   "metadata": {
    "editable": true,
    "slideshow": {
     "slide_type": "slide"
    },
    "tags": []
   },
   "source": [
    "### \"Mélanger\" les spécifications\n",
    "Il n'est pas interdit (et il est parfois utile) de \"mélanger\" les différentes spécifications XML au sein d'un document. Ainsi par exemple, un document TEI pourra contenir dans son `teiHeader` un ensemble d'éléments propres à la spécification de DublinCore:\n",
    "```XML\n",
    "<?xml version=\"1.0\" encoding=\"UTF-8\"?>\n",
    "<TEI xmlns=\"http://www.tei-c.org/ns/1.0\" xmlns:rdf=\"http://www.w3.org/1999/02/22-rdf-syntax-ns#\"\n",
    "   xmlns:dc=\"http://purl.org/dc/elements/1.1/\">\n",
    "   <teiHeader>      \n",
    "      <fileDesc>\n",
    "         <titleStmt>\n",
    "            <title>Titre du document</title>\n",
    "            <author>Auteur du document</author>\n",
    "         </titleStmt>\n",
    "         <publicationStmt>\n",
    "            <publisher>Éditeur du document</publisher>\n",
    "            <date>2023-10-01</date>\n",
    "         </publicationStmt>\n",
    "         <sourceDesc>\n",
    "            <p>Source description</p>\n",
    "         </sourceDesc>\n",
    "      </fileDesc>\n",
    "      <xenoData>\n",
    "         <rdf:RDF>\n",
    "            <rdf:Description rdf:about=\"http://www.worldcat.org/oclc/606621663\">\n",
    "               <dc:title>The description of a new world, called the blazing-world</dc:title>\n",
    "               <dc:creator>The Duchess of Newcastle</dc:creator>\n",
    "               <dc:date>1667</dc:date>\n",
    "               <dc:identifier>British Library, 8407.h.10</dc:identifier>\n",
    "               <dc:subject>utopian fiction</dc:subject>\n",
    "            </rdf:Description>\n",
    "         </rdf:RDF>\n",
    "      </xenoData>\n",
    "   </teiHeader>\n",
    "   <text>\n",
    "      <body>\n",
    "         <p>Some text here.</p>\n",
    "      </body>\n",
    "   </text>\n",
    "</TEI>\n",
    "\n",
    "```"
   ]
  },
  {
   "cell_type": "markdown",
   "id": "8aecb940-85b4-4f98-b895-5db0fa4f4081",
   "metadata": {
    "editable": true,
    "slideshow": {
     "slide_type": "slide"
    },
    "tags": []
   },
   "source": [
    "```XML\n",
    "<?xml version=\"1.0\" encoding=\"UTF-8\"?>\n",
    "<TEI xmlns=\"http://www.tei-c.org/ns/1.0\" xmlns:rdf=\"http://www.w3.org/1999/02/22-rdf-syntax-ns#\"\n",
    "   xmlns:dc=\"http://purl.org/dc/elements/1.1/\">\n",
    "   <teiHeader>      \n",
    "      <fileDesc>\n",
    "         <titleStmt>\n",
    "            <title>Titre du document</title>\n",
    "            <author>Auteur du document</author>\n",
    "         </titleStmt>\n",
    "         <publicationStmt>\n",
    "            <publisher>Éditeur du document</publisher>\n",
    "            <date>2023-10-01</date>\n",
    "         </publicationStmt>\n",
    "         <sourceDesc>\n",
    "            <p>Source description</p>\n",
    "         </sourceDesc>\n",
    "      </fileDesc>\n",
    "      <xenoData>\n",
    "         <rdf:RDF>\n",
    "            <rdf:Description rdf:about=\"http://www.worldcat.org/oclc/606621663\">\n",
    "               <dc:title>The description of a new world, called the blazing-world</dc:title>\n",
    "               <dc:creator>The Duchess of Newcastle</dc:creator>\n",
    "               <dc:date>1667</dc:date>\n",
    "               <dc:identifier>British Library, 8407.h.10</dc:identifier>\n",
    "               <dc:subject>utopian fiction</dc:subject>\n",
    "            </rdf:Description>\n",
    "         </rdf:RDF>\n",
    "      </xenoData>\n",
    "   </teiHeader>\n",
    "   <text>\n",
    "      <body>\n",
    "         <p>Some text here.</p>\n",
    "      </body>\n",
    "   </text>\n",
    "</TEI>\n",
    "\n",
    "```\n",
    "\n",
    "Dans l'exemple ci-dessus, repris à partir des *Guidelines* de la TEI, on combine la TEI, RDF et DublinCore. Nous observons en particulier que nous avons deux éléments `title` qui n'appartiennent pas au même espace de nommage. Le premier appartient à la TEI, et le second à DublinCore. La nécessité  de pouvoir correctement et explicitement distinguer ces éléments est claire. "
   ]
  },
  {
   "cell_type": "markdown",
   "id": "cefbf221-2a0f-4239-b1af-48707e5295bb",
   "metadata": {
    "editable": true,
    "slideshow": {
     "slide_type": "slide"
    },
    "tags": []
   },
   "source": [
    "On note que les éléments DublinCore et RDF sont identifiés par un code `rdf` ou `dc` suivi des deux points `:`. Ce code s'appelle un préfixe. Il doit être déclaré dans le noeud racine du document xml à l'aide d'attribut `xmlns` (*xml namespace*): \n",
    "\n",
    "`<TEI xmlns=\"http://www.tei-c.org/ns/1.0\" xmlns:dc=\"http://purl.org/dc/elements/1.1/\" xmlns:rdf=\"http://www.w3.org/1999/02/22-rdf-syntax-ns#\">`\n",
    "\n",
    "Le premier espace de nom ne contient pas de préfixe: il s'agit de l'espace de nommage par défaut. Tous les éléments qui ne seront pas identifiés par un préfixe se rattacheront à cet espace de nommage. "
   ]
  },
  {
   "cell_type": "markdown",
   "id": "3eb98fc6-8968-44b7-a459-003107131e40",
   "metadata": {
    "editable": true,
    "slideshow": {
     "slide_type": "slide"
    },
    "tags": []
   },
   "source": [
    "### Indiquer ou pas le préfixe?\n",
    "Vous aurez le choix dans le traitement des sources XML d'expliciter ou pas l'espace de noms des éléments que vous voulez transformer (sauf dans le cas où vous auriez plusieurs espaces de noms). Je vous recommande d'être explicite et de toujours indiquer le préfixe."
   ]
  },
  {
   "cell_type": "markdown",
   "id": "5f4f9f76-4883-47f4-9ce2-c04d7f2a9f21",
   "metadata": {
    "editable": true,
    "slideshow": {
     "slide_type": "slide"
    },
    "tags": []
   },
   "source": [
    "### Dans lxml\n",
    "La gestion des espaces de noms se fait à l'aide d'un dictionnaire dans lxml: pour chaque espace de nommage, la clé est le préfixe, et la valeur l'URI de l'espace de nommage."
   ]
  },
  {
   "cell_type": "code",
   "execution_count": 19,
   "id": "a6dde15a-b3a9-4e9a-b76d-21603ebf19bc",
   "metadata": {
    "editable": true,
    "slideshow": {
     "slide_type": "fragment"
    },
    "tags": []
   },
   "outputs": [],
   "source": [
    "tei_uri = \"http://www.tei-c.org/ns/1.0\"\n",
    "dc_uri = \"http://purl.org/dc/elements/1.1/\"\n",
    "namespaces_dict = {'tei': tei_uri,\n",
    "                    'dc': dc_uri}"
   ]
  },
  {
   "cell_type": "markdown",
   "id": "a631a82c-9564-40a8-9700-6a1d996b61c5",
   "metadata": {
    "editable": true,
    "slideshow": {
     "slide_type": "fragment"
    },
    "tags": []
   },
   "source": [
    "Nous n'utiliserons pas de sources contenant des éléments DublinCore, l'exemple est écrit ainsi pour vous donner une idée."
   ]
  },
  {
   "cell_type": "markdown",
   "id": "51627ee4-172e-4a9b-8c42-956f5e139780",
   "metadata": {
    "editable": true,
    "slideshow": {
     "slide_type": "slide"
    },
    "tags": []
   },
   "source": [
    "## Parser le fichier\n",
    "On va commencer par importer notre librairie."
   ]
  },
  {
   "cell_type": "code",
   "execution_count": 20,
   "id": "88c22025-b224-43bf-838d-a9c56b000b80",
   "metadata": {
    "editable": true,
    "slideshow": {
     "slide_type": "fragment"
    },
    "tags": []
   },
   "outputs": [],
   "source": [
    "import lxml.etree as etree"
   ]
  },
  {
   "cell_type": "markdown",
   "id": "dd1e97c5-faee-4f71-90d6-1239abb8939b",
   "metadata": {
    "editable": true,
    "slideshow": {
     "slide_type": "fragment"
    },
    "tags": []
   },
   "source": [
    "La méthode `parse()` nous dispense d'ouvrir le fichier avec `open()`:"
   ]
  },
  {
   "cell_type": "code",
   "execution_count": 21,
   "id": "cfcc588a-5c91-498f-8789-cae4c6a30024",
   "metadata": {
    "editable": false,
    "slideshow": {
     "slide_type": "fragment"
    },
    "tags": []
   },
   "outputs": [
    {
     "name": "stdout",
     "output_type": "stream",
     "text": [
      "<lxml.etree._ElementTree object at 0x7f6566a69140>\n"
     ]
    }
   ],
   "source": [
    "fichier = 'fichier_xml_1.xml'\n",
    "document_as_xml = etree.parse(fichier)\n",
    "print(document_as_xml)"
   ]
  },
  {
   "cell_type": "markdown",
   "id": "457d9798-0501-4de6-9e8a-9b3f947430d2",
   "metadata": {
    "editable": true,
    "slideshow": {
     "slide_type": "slide"
    },
    "tags": []
   },
   "source": [
    "Nous obtenons un objet `lxml.etree._ElementTree`. Voyons les méthodes que l'on peut lui appliquer:"
   ]
  },
  {
   "cell_type": "code",
   "execution_count": 22,
   "id": "40add0c6-f09a-4f31-ae41-ea15781d46ea",
   "metadata": {
    "editable": true,
    "slideshow": {
     "slide_type": "fragment"
    },
    "tags": []
   },
   "outputs": [
    {
     "name": "stdout",
     "output_type": "stream",
     "text": [
      "['__class__', '__copy__', '__deepcopy__', '__delattr__', '__dir__', '__doc__', '__eq__', '__format__', '__ge__', '__getattribute__', '__gt__', '__hash__', '__init__', '__init_subclass__', '__le__', '__lt__', '__ne__', '__new__', '__pyx_vtable__', '__reduce__', '__reduce_ex__', '__repr__', '__setattr__', '__sizeof__', '__str__', '__subclasshook__', '_setroot', 'docinfo', 'find', 'findall', 'findtext', 'getelementpath', 'getiterator', 'getpath', 'getroot', 'iter', 'iterfind', 'parse', 'parser', 'relaxng', 'write', 'write_c14n', 'xinclude', 'xmlschema', 'xpath', 'xslt']\n"
     ]
    }
   ],
   "source": [
    "print(dir(document_as_xml))"
   ]
  },
  {
   "cell_type": "markdown",
   "id": "88a97e84-53fe-40d5-8b98-44953f566a56",
   "metadata": {
    "editable": true,
    "slideshow": {
     "slide_type": ""
    },
    "tags": []
   },
   "source": [
    "Nous nous intéresserons presque exclusivement à la méthode `xpath()` ici, mais notez les méthodes `xinclude` (parser les éléments inclus via un élément `xi:include` -- encore un autre espace de noms! -- ou xslt pour appliquer une feuille de transformation xslt à l'objet sélectionné."
   ]
  },
  {
   "cell_type": "markdown",
   "id": "0effcc71-c4e1-4fc9-8b31-61c4f45be74b",
   "metadata": {
    "editable": true,
    "slideshow": {
     "slide_type": "slide"
    },
    "tags": []
   },
   "source": [
    "Voyons maintenant comment fonctionnent les différents noeuds XML dans lxml. Je me sers ici de la documentation officielle de lxml ([ici](https://lxml.de/tutorial.html)).\n",
    "### Les éléments sont des listes\n",
    "Notre arbre est représenté comme une liste de listes imbriquées:"
   ]
  },
  {
   "cell_type": "code",
   "execution_count": 23,
   "id": "4443b889-a6e3-476c-8c9a-5a98074d6600",
   "metadata": {
    "editable": true,
    "slideshow": {
     "slide_type": "fragment"
    },
    "tags": []
   },
   "outputs": [
    {
     "name": "stdout",
     "output_type": "stream",
     "text": [
      "<Element {http://www.tei-c.org/ns/1.0}teiHeader at 0x7f65668bc700>\n"
     ]
    }
   ],
   "source": [
    "root = document_as_xml.getroot()\n",
    "print(root[0])"
   ]
  },
  {
   "cell_type": "markdown",
   "id": "e574e03d-3762-47ce-b111-873f1eca83f7",
   "metadata": {
    "editable": true,
    "slideshow": {
     "slide_type": "fragment"
    },
    "tags": []
   },
   "source": [
    "Le premier élément de notre arbre correspond à l'item d'index 0 de la liste: le `teiHeader`"
   ]
  },
  {
   "cell_type": "code",
   "execution_count": 24,
   "id": "dcbf0491-5256-4d2a-80b5-be9917d72fdd",
   "metadata": {
    "editable": true,
    "slideshow": {
     "slide_type": "fragment"
    },
    "tags": []
   },
   "outputs": [
    {
     "name": "stdout",
     "output_type": "stream",
     "text": [
      "<Element {http://www.tei-c.org/ns/1.0}text at 0x7f65668c7180>\n"
     ]
    }
   ],
   "source": [
    "print(root[1])"
   ]
  },
  {
   "cell_type": "markdown",
   "id": "81d0bc0f-881f-4066-ab92-c72c2abfb161",
   "metadata": {
    "editable": true,
    "slideshow": {
     "slide_type": "fragment"
    },
    "tags": []
   },
   "source": [
    "Le second élément correspond au `body`. On note bien que l'espace de noms est systématiquement explicité par lxml. Enfin, on peut aller plus loin dans la structure en interrogeant les sous-listes:"
   ]
  },
  {
   "cell_type": "code",
   "execution_count": 25,
   "id": "e4e18679-92a1-4320-bb47-15b6c231bd31",
   "metadata": {
    "editable": true,
    "slideshow": {
     "slide_type": "fragment"
    },
    "tags": []
   },
   "outputs": [
    {
     "name": "stdout",
     "output_type": "stream",
     "text": [
      "<Element {http://www.tei-c.org/ns/1.0}fileDesc at 0x7f65668f4400>\n"
     ]
    }
   ],
   "source": [
    "print(root[0][0])"
   ]
  },
  {
   "cell_type": "markdown",
   "id": "c63a397e-28c3-4dd8-876f-0f3bc416fab6",
   "metadata": {
    "editable": true,
    "slideshow": {
     "slide_type": "fragment"
    },
    "tags": []
   },
   "source": [
    "Ici, on va trouver le premier élément du `teiHeader`."
   ]
  },
  {
   "cell_type": "markdown",
   "id": "ea077052-4409-497f-af2d-1aff7e1c5a67",
   "metadata": {
    "editable": true,
    "slideshow": {
     "slide_type": "slide"
    },
    "tags": []
   },
   "source": [
    "### Les éléments portent leurs attributs comme des dictionnaires"
   ]
  },
  {
   "cell_type": "markdown",
   "id": "cf4290f9-80c9-4666-80dd-7374aff936dd",
   "metadata": {
    "editable": true,
    "slideshow": {
     "slide_type": "slide"
    },
    "tags": []
   },
   "source": [
    "## Sérialiser l'arbre"
   ]
  },
  {
   "cell_type": "markdown",
   "id": "a4e279e7-c471-49a5-a53e-b4dfbf2f6087",
   "metadata": {
    "editable": true,
    "slideshow": {
     "slide_type": "slide"
    },
    "tags": []
   },
   "source": [
    "## Naviguer dans l'arbre: la méthode `xpath()`\n",
    "\n",
    "Attention aux espaces de noms avec le paramètre namespaces (au pluriel) qui doit renvoyer vers le dictionnaire recensant l'ensemble des espaces de noms du corpus. "
   ]
  },
  {
   "cell_type": "markdown",
   "id": "636ca629-98b7-494e-a046-b6027dd8729c",
   "metadata": {
    "editable": true,
    "slideshow": {
     "slide_type": "slide"
    },
    "tags": []
   },
   "source": [
    "## Récupérer les noeuds textuels d'un noeud"
   ]
  },
  {
   "cell_type": "markdown",
   "id": "752fd65a-e9c8-4e32-8430-4437f48dfa46",
   "metadata": {
    "editable": true,
    "slideshow": {
     "slide_type": "slide"
    },
    "tags": []
   },
   "source": [
    "## Créer un élément et l'insérer dans l'arbre"
   ]
  },
  {
   "cell_type": "markdown",
   "id": "f4d166ae-8127-4b3c-805e-a0d5b5b66a07",
   "metadata": {
    "editable": true,
    "slideshow": {
     "slide_type": "slide"
    },
    "tags": []
   },
   "source": [
    "## Créer un attribut\n",
    "La création d'attributs set fait grâce à la méthode `set('attribut', 'valeur')` appliquée à l'élément choisi. \n",
    "\n",
    "Imaginons que nous voulions indiquer que l'identification de la césure dans le dernier vers à l'aide de l'élément `caesura` est assumée de science certaine. Nous allons utiliser l'attribut `@cert` pour cela:"
   ]
  },
  {
   "cell_type": "code",
   "execution_count": 26,
   "id": "b20d01fd-5475-45dd-93c0-dc15adce628e",
   "metadata": {
    "editable": true,
    "slideshow": {
     "slide_type": "fragment"
    },
    "tags": []
   },
   "outputs": [
    {
     "name": "stdout",
     "output_type": "stream",
     "text": [
      "[<Element {http://www.tei-c.org/ns/1.0}caesura at 0x7f65668f5080>]\n"
     ]
    }
   ],
   "source": [
    "caesura = root.xpath(\"descendant::tei:lg[@type='couplet']/descendant::tei:caesura\", namespaces=namespaces_dict)\n",
    "print(caesura)"
   ]
  },
  {
   "cell_type": "markdown",
   "id": "a6eebe8d-1a7a-4e2f-9762-4503c9ec6797",
   "metadata": {
    "editable": true,
    "slideshow": {
     "slide_type": "fragment"
    },
    "tags": []
   },
   "source": [
    "La méthode xpath renvoi (presque) toujours une liste même si elle ne contient qu'un élément: il faut donc veiller à le sélectionner explicitement."
   ]
  },
  {
   "cell_type": "code",
   "execution_count": 27,
   "id": "0de58925-4de2-4ed1-993f-c3b933ee664b",
   "metadata": {
    "editable": true,
    "slideshow": {
     "slide_type": "fragment"
    },
    "tags": []
   },
   "outputs": [],
   "source": [
    "caesura[0].set('cert', 'high')"
   ]
  },
  {
   "cell_type": "markdown",
   "id": "faf84a73-8caf-425b-84b5-7fc647e1e2a7",
   "metadata": {
    "editable": true,
    "slideshow": {
     "slide_type": "slide"
    },
    "tags": []
   },
   "source": [
    "Regardons le résultat en ciblant le couplet:"
   ]
  },
  {
   "cell_type": "code",
   "execution_count": 28,
   "id": "2e890170-2dea-45d9-9a2d-a8e1bfb7aa07",
   "metadata": {
    "editable": true,
    "slideshow": {
     "slide_type": "fragment"
    },
    "tags": []
   },
   "outputs": [
    {
     "name": "stdout",
     "output_type": "stream",
     "text": [
      "<lg xmlns=\"http://www.tei-c.org/ns/1.0\" type=\"couplet\">\n",
      "                     <l>\n",
      "                        <seg type=\"foot\">But were</seg>\n",
      "                        <seg type=\"foot\"> some child</seg>\n",
      "                        <seg type=\"foot\"> of yours</seg>\n",
      "                        <seg type=\"foot\"> alive</seg>\n",
      "                        <seg type=\"foot\"> that time,</seg>\n",
      "                     </l>\n",
      "                     <l>\n",
      "                        <seg type=\"foot\">You should</seg>\n",
      "                        <seg type=\"foot\"> live twice-</seg>\n",
      "                        <seg type=\"foot\">in it,</seg>\n",
      "                        <caesura cert=\"high\"/>\n",
      "                        <seg type=\"foot\"> and in</seg>\n",
      "                        <seg type=\"foot\"> my rhyme. </seg>\n",
      "                     </l>\n",
      "                  </lg>\n",
      "               \n",
      "\n"
     ]
    }
   ],
   "source": [
    "modified_lg = root.xpath(\"descendant::tei:lg[@type='couplet']\", namespaces=namespaces_dict)[0]\n",
    "print(etree.tostring(modified_lg, pretty_print=True).decode())"
   ]
  },
  {
   "cell_type": "markdown",
   "id": "3717d67a-369c-435b-a3e6-df57dcc4568b",
   "metadata": {
    "editable": true,
    "slideshow": {
     "slide_type": "slide"
    },
    "tags": []
   },
   "source": [
    "## Supprimer un élément"
   ]
  }
 ],
 "metadata": {
  "kernelspec": {
   "display_name": "Python 3 (ipykernel)",
   "language": "python",
   "name": "python3"
  },
  "language_info": {
   "codemirror_mode": {
    "name": "ipython",
    "version": 3
   },
   "file_extension": ".py",
   "mimetype": "text/x-python",
   "name": "python",
   "nbconvert_exporter": "python",
   "pygments_lexer": "ipython3",
   "version": "3.10.0"
  }
 },
 "nbformat": 4,
 "nbformat_minor": 5
}
