{
 "cells": [
  {
   "cell_type": "markdown",
   "id": "9f496d1c-bb46-418d-92f4-c515a9e0c2f8",
   "metadata": {
    "editable": true,
    "slideshow": {
     "slide_type": ""
    },
    "tags": []
   },
   "source": [
    "# Exercice 1 -- correction\n",
    "Numérotez les vers du sonnet en exemple à l'aide d'un attribut `@n` ajouté à chaque vers. Sauvegardez le résultat sous `exercice_1.xml`."
   ]
  },
  {
   "cell_type": "markdown",
   "id": "508034e0-8a9b-437e-9b02-2d10e0e2df74",
   "metadata": {
    "editable": true,
    "slideshow": {
     "slide_type": ""
    },
    "tags": []
   },
   "source": [
    "Nous allons donc devoir récupérer chaque vers, et trouver un moyen de calculer le nombre de vers antérieurs. Nous utiliserons deux méthodes différentes pour cela.\n"
   ]
  },
  {
   "cell_type": "markdown",
   "id": "567be519-a345-4e9b-a6cc-6d9c39d52ad5",
   "metadata": {
    "editable": true,
    "slideshow": {
     "slide_type": ""
    },
    "tags": []
   },
   "source": [
    "## 1 - Imports et *parsing* du document"
   ]
  },
  {
   "cell_type": "code",
   "execution_count": 1,
   "id": "70b7f444-51bc-4ea2-a956-af8b96f1c60e",
   "metadata": {
    "editable": true,
    "slideshow": {
     "slide_type": ""
    },
    "tags": []
   },
   "outputs": [],
   "source": [
    "import lxml.etree as etree\n",
    "import copy"
   ]
  },
  {
   "cell_type": "code",
   "execution_count": 2,
   "id": "dc8f22a8-26a2-42ac-9470-3f9015f5d7f0",
   "metadata": {
    "editable": true,
    "slideshow": {
     "slide_type": ""
    },
    "tags": []
   },
   "outputs": [
    {
     "name": "stdout",
     "output_type": "stream",
     "text": [
      "<lxml.etree._ElementTree object at 0x7f724036adc0>\n"
     ]
    }
   ],
   "source": [
    "fichier = 'fichier_xml_1.xml'\n",
    "document_as_xml = etree.parse(fichier)\n",
    "print(document_as_xml)"
   ]
  },
  {
   "cell_type": "markdown",
   "id": "fe000abc-1630-4f8f-aecd-ad237d17cfcd",
   "metadata": {
    "editable": true,
    "slideshow": {
     "slide_type": ""
    },
    "tags": []
   },
   "source": [
    "## 2 - Récupération de la liste de vers\n",
    "On va effectuer une copie de notre racine pour montrer deux manière d'arriver à notre résultat."
   ]
  },
  {
   "cell_type": "code",
   "execution_count": 3,
   "id": "0b681c73-5aca-4f81-b85d-5925c553dc9d",
   "metadata": {
    "editable": true,
    "slideshow": {
     "slide_type": ""
    },
    "tags": []
   },
   "outputs": [],
   "source": [
    "racine = document_as_xml.getroot()\n",
    "racine_copiee = copy.deepcopy(racine)"
   ]
  },
  {
   "cell_type": "code",
   "execution_count": 4,
   "id": "61e91d0a-b2f5-4eb1-ac86-85a411ed0a96",
   "metadata": {
    "editable": true,
    "slideshow": {
     "slide_type": ""
    },
    "tags": []
   },
   "outputs": [
    {
     "name": "stdout",
     "output_type": "stream",
     "text": [
      "[]\n"
     ]
    }
   ],
   "source": [
    "all_verses = racine.xpath(\"//l\")\n",
    "print(all_verses)"
   ]
  },
  {
   "cell_type": "markdown",
   "id": "ed7ec16e-755b-4a05-9c9f-08308e68eb47",
   "metadata": {
    "editable": true,
    "slideshow": {
     "slide_type": ""
    },
    "tags": []
   },
   "source": [
    "Ici, ça ne marche pas: on n'a pas spécifié les espaces de noms des éléments que l'on cherche. Commençons par attribuer un préfixe à notre espace de nom TEI:"
   ]
  },
  {
   "cell_type": "code",
   "execution_count": 5,
   "id": "dfd67bae-f0ed-4358-92dc-1ed17cd9350f",
   "metadata": {
    "editable": true,
    "slideshow": {
     "slide_type": ""
    },
    "tags": []
   },
   "outputs": [],
   "source": [
    "tei_uri = \"http://www.tei-c.org/ns/1.0\"\n",
    "namespaces_dict = {'tei': tei_uri}"
   ]
  },
  {
   "cell_type": "markdown",
   "id": "f4d521df-0904-40a3-9d30-3eb39b1c7578",
   "metadata": {
    "editable": true,
    "slideshow": {
     "slide_type": ""
    },
    "tags": []
   },
   "source": [
    "Puis on peut relancer notre commande en modifiant la requête XPath pour y inclure les préfixes de la TEI:"
   ]
  },
  {
   "cell_type": "code",
   "execution_count": 6,
   "id": "5e2c2d0d-19a9-4732-a4f0-51794de14cdc",
   "metadata": {
    "editable": true,
    "slideshow": {
     "slide_type": ""
    },
    "tags": []
   },
   "outputs": [
    {
     "name": "stdout",
     "output_type": "stream",
     "text": [
      "[<Element {http://www.tei-c.org/ns/1.0}l at 0x7f7240239f00>, <Element {http://www.tei-c.org/ns/1.0}l at 0x7f72402391c0>, <Element {http://www.tei-c.org/ns/1.0}l at 0x7f7240239180>, <Element {http://www.tei-c.org/ns/1.0}l at 0x7f7240239140>, <Element {http://www.tei-c.org/ns/1.0}l at 0x7f7240239100>, <Element {http://www.tei-c.org/ns/1.0}l at 0x7f7240239080>, <Element {http://www.tei-c.org/ns/1.0}l at 0x7f7240239040>, <Element {http://www.tei-c.org/ns/1.0}l at 0x7f7240239000>, <Element {http://www.tei-c.org/ns/1.0}l at 0x7f7240238fc0>, <Element {http://www.tei-c.org/ns/1.0}l at 0x7f72402390c0>, <Element {http://www.tei-c.org/ns/1.0}l at 0x7f7240238cc0>, <Element {http://www.tei-c.org/ns/1.0}l at 0x7f724023b640>, <Element {http://www.tei-c.org/ns/1.0}l at 0x7f724023b600>, <Element {http://www.tei-c.org/ns/1.0}l at 0x7f724023b540>]\n"
     ]
    }
   ],
   "source": [
    "all_verses = racine.xpath(\"//tei:l\", namespaces=namespaces_dict)\n",
    "print(all_verses)"
   ]
  },
  {
   "cell_type": "markdown",
   "id": "31003000-73ad-4188-b223-b154c12044a2",
   "metadata": {
    "editable": true,
    "slideshow": {
     "slide_type": ""
    },
    "tags": []
   },
   "source": [
    "Ça marche ! Il nous faut maintenant trouver une manière de compter les lignes. "
   ]
  },
  {
   "cell_type": "markdown",
   "id": "7803e500-856a-4fc4-8363-be5d32fd45ed",
   "metadata": {
    "editable": true,
    "slideshow": {
     "slide_type": ""
    },
    "tags": []
   },
   "source": [
    "### Option A: avec XPath pur\n",
    "La première option demande d'utiliser la fonction XPath 1.0 `count()` que l'on va appliquer à chacun de nos vers. Il suffira ensuite de manipuler le résultat pour le convertir en entier, puis en chaîne de caractère, pour enfin créer un attribut `@n` avec la valeur trouvée."
   ]
  },
  {
   "cell_type": "code",
   "execution_count": 7,
   "id": "eff8bf4f-0799-4e7c-9825-9d65932c9570",
   "metadata": {
    "editable": true,
    "slideshow": {
     "slide_type": ""
    },
    "tags": []
   },
   "outputs": [
    {
     "name": "stdout",
     "output_type": "stream",
     "text": [
      "1\n",
      "2\n",
      "3\n",
      "4\n",
      "5\n",
      "6\n",
      "7\n",
      "8\n",
      "9\n",
      "10\n",
      "11\n",
      "12\n",
      "13\n",
      "14\n"
     ]
    }
   ],
   "source": [
    "for verse in all_verses:\n",
    "    # On ajoute 1 car on regarde les noeuds qui précèdent\n",
    "    number = int(verse.xpath(\"count(preceding::tei:l)\", namespaces=namespaces_dict)) + 1\n",
    "    as_string = str(number)\n",
    "    verse.set('n', as_string)\n",
    "    print(as_string)"
   ]
  },
  {
   "cell_type": "code",
   "execution_count": 8,
   "id": "eeb4e3d3-be25-40de-9ac3-998b62326aba",
   "metadata": {
    "editable": true,
    "slideshow": {
     "slide_type": ""
    },
    "tags": []
   },
   "outputs": [
    {
     "name": "stdout",
     "output_type": "stream",
     "text": [
      "<lg xmlns=\"http://www.tei-c.org/ns/1.0\" type=\"poem\" met=\"-+ | -+ | -+ | -+ | -+ /\">\n",
      "               <head>\n",
      "                  <title>Sonnet 17</title>\n",
      "               </head>\n",
      "               <lg type=\"sonnet\" rhyme=\"abab cdcd efef gg\">\n",
      "                  <lg type=\"quatrain\">\n",
      "                     <l n=\"1\">\n",
      "                        <seg type=\"foot\" real=\"+-\"> Who will</seg>\n",
      "                        <seg type=\"foot\"> believe</seg>\n",
      "                        <seg type=\"foot\"> my verse</seg>\n",
      "                        <seg type=\"foot\"> in time</seg>\n",
      "                        <seg type=\"foot\"> to come,</seg>\n",
      "                     </l>\n",
      "                     <l n=\"2\">\n",
      "                        <seg type=\"foot\">If it</seg>\n",
      "                        <seg type=\"foot\"> were fill&#8203;'d</seg>\n",
      "                        <seg type=\"foot\"> with your</seg>\n",
      "                        <seg type=\"foot\"> most high</seg>\n",
      "                        <seg type=\"foot\" real=\"+-\"> deserts?</seg>\n",
      "                     </l>\n",
      "                     <l n=\"3\">\n",
      "                        <seg type=\"foot\">Though yet,</seg>\n",
      "                        <seg type=\"foot\" real=\"+-\"> heaven knows,</seg>\n",
      "                        <seg type=\"foot\"> it is</seg>\n",
      "                        <seg type=\"foot\"> but as</seg>\n",
      "                        <seg type=\"foot\"> a tomb</seg>\n",
      "                     </l>\n",
      "                     <l n=\"4\">\n",
      "                        <seg type=\"foot\">Which hides</seg>\n",
      "                        <seg type=\"foot\"> your life </seg>\n",
      "                        <seg type=\"foot\">and shows</seg>\n",
      "                        <seg type=\"foot\"> not half</seg>\n",
      "                        <seg type=\"foot\"> your parts. </seg>\n",
      "                     </l>\n",
      "                  </lg>\n",
      "                  <lg type=\"quatrain\">\n",
      "                     <l enjamb=\"y\" n=\"5\">\n",
      "                        <seg type=\"foot\">If I</seg>\n",
      "                        <seg type=\"foot\"> could write</seg>\n",
      "                        <seg type=\"foot\"> the beau</seg>\n",
      "                        <seg type=\"foot\">ty of </seg>\n",
      "                        <seg type=\"foot\"> your eyes</seg>\n",
      "                     </l>\n",
      "                     <l n=\"6\">\n",
      "                        <seg type=\"foot\" real=\"--\">And in</seg>\n",
      "                        <seg type=\"foot\" real=\"++\"> fresh num</seg>\n",
      "                        <seg type=\"foot\">bers num</seg>\n",
      "                        <seg type=\"foot\">ber all</seg>\n",
      "                        <seg type=\"foot\" met=\"-+-\"> your graces,</seg>\n",
      "                     </l>\n",
      "                     <l n=\"7\">\n",
      "                        <seg type=\"foot\">The age</seg>\n",
      "                        <seg type=\"foot\"> to come</seg>\n",
      "                        <seg type=\"foot\"> would say</seg>\n",
      "                        <seg type=\"foot\"> &#8216;This po</seg>\n",
      "                        <seg type=\"foot\">et lies; </seg>\n",
      "                     </l>\n",
      "                     <l n=\"8\">\n",
      "                        <seg type=\"foot\">Such heaven</seg>\n",
      "                        <seg type=\"foot\">ly touch</seg>\n",
      "                        <seg type=\"foot\">es ne&#8203;'er</seg>\n",
      "                        <seg type=\"foot\"> touch&#8203;'d earth</seg>\n",
      "                        <seg type=\"foot\" met=\"-+-\">ly faces&#8217;. </seg>\n",
      "                     </l>\n",
      "                  </lg>\n",
      "                  <lg type=\"quatrain\">\n",
      "                     <l n=\"9\">\n",
      "                        <seg type=\"foot\">So should</seg>\n",
      "                        <seg type=\"foot\"> my pap</seg>\n",
      "                        <seg type=\"foot\">ers, <caesura/>yell</seg>\n",
      "                        <seg type=\"foot\">owed with</seg>\n",
      "                        <seg type=\"foot\"> their age,</seg>\n",
      "                     </l>\n",
      "                     <l n=\"10\">\n",
      "                        <seg type=\"foot\">Be scorn&#8203;'d</seg>\n",
      "                        <seg type=\"foot\"> like old</seg>\n",
      "                        <seg type=\"foot\" real=\"+-\"> men of </seg>\n",
      "                        <seg type=\"foot\">less truth</seg>\n",
      "                        <seg type=\"foot\"> than tongue; </seg>\n",
      "                     </l>\n",
      "                     <l n=\"11\">\n",
      "                        <seg type=\"foot\">And your</seg>\n",
      "                        <seg type=\"foot\"> true rights</seg>\n",
      "                        <seg type=\"foot\"> be term'</seg>\n",
      "                        <seg type=\"foot\"> a po</seg>\n",
      "                        <seg type=\"foot\">et&#8203;'s rage,</seg>\n",
      "                     </l>\n",
      "                     <l n=\"12\">\n",
      "                        <seg type=\"foot\">And stretch</seg>\n",
      "                        <seg type=\"foot\">ed me</seg>\n",
      "                        <seg type=\"foot\">tre of </seg>\n",
      "                        <seg type=\"foot\">an an</seg>\n",
      "                        <seg type=\"foot\">tique song. </seg>\n",
      "                     </l>\n",
      "                  </lg>\n",
      "                  <lg type=\"couplet\">\n",
      "                     <l n=\"13\">\n",
      "                        <seg type=\"foot\">But were</seg>\n",
      "                        <seg type=\"foot\"> some child</seg>\n",
      "                        <seg type=\"foot\"> of yours</seg>\n",
      "                        <seg type=\"foot\"> alive</seg>\n",
      "                        <seg type=\"foot\"> that time,</seg>\n",
      "                     </l>\n",
      "                     <l n=\"14\">\n",
      "                        <seg type=\"foot\">You should</seg>\n",
      "                        <seg type=\"foot\"> live twice-</seg>\n",
      "                        <seg type=\"foot\">in it,</seg>\n",
      "                        <caesura/>\n",
      "                        <seg type=\"foot\"> and in</seg>\n",
      "                        <seg type=\"foot\"> my rhyme. </seg>\n",
      "                     </l>\n",
      "                  </lg>\n",
      "               </lg>\n",
      "            </lg>\n",
      "         \n",
      "\n"
     ]
    }
   ],
   "source": [
    "sonnet = racine.xpath(\"//tei:lg[@type='poem']\", namespaces=namespaces_dict)[0]\n",
    "\n",
    "print(etree.tostring(sonnet, pretty_print=True).decode())"
   ]
  },
  {
   "cell_type": "markdown",
   "id": "1c5c74f0-263a-4d34-b385-37dea8c547a3",
   "metadata": {
    "editable": true,
    "slideshow": {
     "slide_type": ""
    },
    "tags": []
   },
   "source": [
    "Cela fonctionne parfaitement, mais suppose de lancer une expression XPath sur chacune des lignes. Or, l'exécution du XPath est relativement lente, et cela se verra si vous avez des milliers d'items à parser. Pouvons nous trouver une solution plus simple qui n'utilise que python?"
   ]
  },
  {
   "cell_type": "markdown",
   "id": "15fc3705-ec9b-4850-a69a-069f8b95bb1e",
   "metadata": {
    "editable": true,
    "slideshow": {
     "slide_type": ""
    },
    "tags": []
   },
   "source": [
    "### Option B - avec un traitement de liste simple"
   ]
  },
  {
   "cell_type": "markdown",
   "id": "4f2aa7dd-560e-4c4e-91f5-3d22a0ade302",
   "metadata": {
    "editable": true,
    "slideshow": {
     "slide_type": ""
    },
    "tags": []
   },
   "source": [
    "Notre liste contient en effet l'ensemble des vers qui nous intéressent. On peut donc l'utiliser pour attribuer à chacun des vers son numéro correspondant. Nous travaillons ici sur la copie du document originel, pour être certain de ne pas être parasités par l'option A."
   ]
  },
  {
   "cell_type": "code",
   "execution_count": 9,
   "id": "90b66146-46ad-4e5a-96f9-45ef4319a599",
   "metadata": {
    "editable": true,
    "slideshow": {
     "slide_type": ""
    },
    "tags": []
   },
   "outputs": [],
   "source": [
    "all_verses_copies = racine_copiee.xpath(\"//tei:l\", namespaces=namespaces_dict)"
   ]
  },
  {
   "cell_type": "code",
   "execution_count": 10,
   "id": "72960c14-c4d9-48d9-80df-91ee604528f6",
   "metadata": {
    "editable": true,
    "slideshow": {
     "slide_type": ""
    },
    "tags": []
   },
   "outputs": [],
   "source": [
    "for index, verse in enumerate(all_verses_copies):\n",
    "    # Attention à l'index qui commence à 0 en python !\n",
    "    correct_value = index + 1\n",
    "    verse.set('n', str(correct_value))"
   ]
  },
  {
   "cell_type": "code",
   "execution_count": 11,
   "id": "ecf761bb-ba67-4224-8a58-894d114eabef",
   "metadata": {
    "editable": true,
    "slideshow": {
     "slide_type": ""
    },
    "tags": []
   },
   "outputs": [
    {
     "name": "stdout",
     "output_type": "stream",
     "text": [
      "<lg xmlns=\"http://www.tei-c.org/ns/1.0\" type=\"poem\" met=\"-+ | -+ | -+ | -+ | -+ /\">\n",
      "               <head>\n",
      "                  <title>Sonnet 17</title>\n",
      "               </head>\n",
      "               <lg type=\"sonnet\" rhyme=\"abab cdcd efef gg\">\n",
      "                  <lg type=\"quatrain\">\n",
      "                     <l n=\"1\">\n",
      "                        <seg type=\"foot\" real=\"+-\"> Who will</seg>\n",
      "                        <seg type=\"foot\"> believe</seg>\n",
      "                        <seg type=\"foot\"> my verse</seg>\n",
      "                        <seg type=\"foot\"> in time</seg>\n",
      "                        <seg type=\"foot\"> to come,</seg>\n",
      "                     </l>\n",
      "                     <l n=\"2\">\n",
      "                        <seg type=\"foot\">If it</seg>\n",
      "                        <seg type=\"foot\"> were fill&#8203;'d</seg>\n",
      "                        <seg type=\"foot\"> with your</seg>\n",
      "                        <seg type=\"foot\"> most high</seg>\n",
      "                        <seg type=\"foot\" real=\"+-\"> deserts?</seg>\n",
      "                     </l>\n",
      "                     <l n=\"3\">\n",
      "                        <seg type=\"foot\">Though yet,</seg>\n",
      "                        <seg type=\"foot\" real=\"+-\"> heaven knows,</seg>\n",
      "                        <seg type=\"foot\"> it is</seg>\n",
      "                        <seg type=\"foot\"> but as</seg>\n",
      "                        <seg type=\"foot\"> a tomb</seg>\n",
      "                     </l>\n",
      "                     <l n=\"4\">\n",
      "                        <seg type=\"foot\">Which hides</seg>\n",
      "                        <seg type=\"foot\"> your life </seg>\n",
      "                        <seg type=\"foot\">and shows</seg>\n",
      "                        <seg type=\"foot\"> not half</seg>\n",
      "                        <seg type=\"foot\"> your parts. </seg>\n",
      "                     </l>\n",
      "                  </lg>\n",
      "                  <lg type=\"quatrain\">\n",
      "                     <l enjamb=\"y\" n=\"5\">\n",
      "                        <seg type=\"foot\">If I</seg>\n",
      "                        <seg type=\"foot\"> could write</seg>\n",
      "                        <seg type=\"foot\"> the beau</seg>\n",
      "                        <seg type=\"foot\">ty of </seg>\n",
      "                        <seg type=\"foot\"> your eyes</seg>\n",
      "                     </l>\n",
      "                     <l n=\"6\">\n",
      "                        <seg type=\"foot\" real=\"--\">And in</seg>\n",
      "                        <seg type=\"foot\" real=\"++\"> fresh num</seg>\n",
      "                        <seg type=\"foot\">bers num</seg>\n",
      "                        <seg type=\"foot\">ber all</seg>\n",
      "                        <seg type=\"foot\" met=\"-+-\"> your graces,</seg>\n",
      "                     </l>\n",
      "                     <l n=\"7\">\n",
      "                        <seg type=\"foot\">The age</seg>\n",
      "                        <seg type=\"foot\"> to come</seg>\n",
      "                        <seg type=\"foot\"> would say</seg>\n",
      "                        <seg type=\"foot\"> &#8216;This po</seg>\n",
      "                        <seg type=\"foot\">et lies; </seg>\n",
      "                     </l>\n",
      "                     <l n=\"8\">\n",
      "                        <seg type=\"foot\">Such heaven</seg>\n",
      "                        <seg type=\"foot\">ly touch</seg>\n",
      "                        <seg type=\"foot\">es ne&#8203;'er</seg>\n",
      "                        <seg type=\"foot\"> touch&#8203;'d earth</seg>\n",
      "                        <seg type=\"foot\" met=\"-+-\">ly faces&#8217;. </seg>\n",
      "                     </l>\n",
      "                  </lg>\n",
      "                  <lg type=\"quatrain\">\n",
      "                     <l n=\"9\">\n",
      "                        <seg type=\"foot\">So should</seg>\n",
      "                        <seg type=\"foot\"> my pap</seg>\n",
      "                        <seg type=\"foot\">ers, <caesura/>yell</seg>\n",
      "                        <seg type=\"foot\">owed with</seg>\n",
      "                        <seg type=\"foot\"> their age,</seg>\n",
      "                     </l>\n",
      "                     <l n=\"10\">\n",
      "                        <seg type=\"foot\">Be scorn&#8203;'d</seg>\n",
      "                        <seg type=\"foot\"> like old</seg>\n",
      "                        <seg type=\"foot\" real=\"+-\"> men of </seg>\n",
      "                        <seg type=\"foot\">less truth</seg>\n",
      "                        <seg type=\"foot\"> than tongue; </seg>\n",
      "                     </l>\n",
      "                     <l n=\"11\">\n",
      "                        <seg type=\"foot\">And your</seg>\n",
      "                        <seg type=\"foot\"> true rights</seg>\n",
      "                        <seg type=\"foot\"> be term'</seg>\n",
      "                        <seg type=\"foot\"> a po</seg>\n",
      "                        <seg type=\"foot\">et&#8203;'s rage,</seg>\n",
      "                     </l>\n",
      "                     <l n=\"12\">\n",
      "                        <seg type=\"foot\">And stretch</seg>\n",
      "                        <seg type=\"foot\">ed me</seg>\n",
      "                        <seg type=\"foot\">tre of </seg>\n",
      "                        <seg type=\"foot\">an an</seg>\n",
      "                        <seg type=\"foot\">tique song. </seg>\n",
      "                     </l>\n",
      "                  </lg>\n",
      "                  <lg type=\"couplet\">\n",
      "                     <l n=\"13\">\n",
      "                        <seg type=\"foot\">But were</seg>\n",
      "                        <seg type=\"foot\"> some child</seg>\n",
      "                        <seg type=\"foot\"> of yours</seg>\n",
      "                        <seg type=\"foot\"> alive</seg>\n",
      "                        <seg type=\"foot\"> that time,</seg>\n",
      "                     </l>\n",
      "                     <l n=\"14\">\n",
      "                        <seg type=\"foot\">You should</seg>\n",
      "                        <seg type=\"foot\"> live twice-</seg>\n",
      "                        <seg type=\"foot\">in it,</seg>\n",
      "                        <caesura/>\n",
      "                        <seg type=\"foot\"> and in</seg>\n",
      "                        <seg type=\"foot\"> my rhyme. </seg>\n",
      "                     </l>\n",
      "                  </lg>\n",
      "               </lg>\n",
      "            </lg>\n",
      "         \n",
      "\n"
     ]
    }
   ],
   "source": [
    "sonnet = racine_copiee.xpath(\"//tei:lg[@type='poem']\", namespaces=namespaces_dict)[0]\n",
    "\n",
    "print(etree.tostring(sonnet, pretty_print=True).decode())"
   ]
  },
  {
   "cell_type": "markdown",
   "id": "b536a9b7-6748-4be4-b55f-6c650468f003",
   "metadata": {
    "editable": true,
    "slideshow": {
     "slide_type": ""
    },
    "tags": []
   },
   "source": [
    "### Conclusion\n",
    "Il y avait deux possibilités valides pour cet exercice. Du point de vue des performances, pour un texte de cette taille, la différence est minime. Pour des corpus plus massifs, je recommande cependant d'**optimiser le recours aux requêtes XPath** en les produisant le plus haut et le moins de fois possible, et de traiter ensuite les résultats à l'aide des manipulations de listes, de sets ou de dictionnaires que permet python."
   ]
  }
 ],
 "metadata": {
  "kernelspec": {
   "display_name": "Python 3 (ipykernel)",
   "language": "python",
   "name": "python3"
  },
  "language_info": {
   "codemirror_mode": {
    "name": "ipython",
    "version": 3
   },
   "file_extension": ".py",
   "mimetype": "text/x-python",
   "name": "python",
   "nbconvert_exporter": "python",
   "pygments_lexer": "ipython3",
   "version": "3.10.0"
  }
 },
 "nbformat": 4,
 "nbformat_minor": 5
}
